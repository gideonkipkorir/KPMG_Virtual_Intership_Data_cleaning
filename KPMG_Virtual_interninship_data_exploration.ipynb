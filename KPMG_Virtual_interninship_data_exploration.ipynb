{
  "nbformat": 4,
  "nbformat_minor": 0,
  "metadata": {
    "colab": {
      "name": "KPMG Virtual interninship_data_exploration.ipynb",
      "provenance": [],
      "collapsed_sections": [],
      "toc_visible": true
    },
    "kernelspec": {
      "name": "python3",
      "display_name": "Python 3"
    }
  },
  "cells": [
    {
      "cell_type": "code",
      "metadata": {
        "id": "gS4yf9wU_oIH",
        "colab_type": "code",
        "colab": {
          "base_uri": "https://localhost:8080/",
          "height": 71
        },
        "outputId": "c5871db0-f3b8-4a22-d6f0-257bac99c1fb"
      },
      "source": [
        "# loading libriaries\n",
        "import pandas as pd\n",
        "import numpy as np\n",
        "import matplotlib.pyplot as plt\n",
        "import seaborn as sns"
      ],
      "execution_count": null,
      "outputs": [
        {
          "output_type": "stream",
          "text": [
            "/usr/local/lib/python3.6/dist-packages/statsmodels/tools/_testing.py:19: FutureWarning: pandas.util.testing is deprecated. Use the functions in the public API at pandas.testing instead.\n",
            "  import pandas.util.testing as tm\n"
          ],
          "name": "stderr"
        }
      ]
    },
    {
      "cell_type": "code",
      "metadata": {
        "id": "In7L9kRn_2k_",
        "colab_type": "code",
        "colab": {
          "base_uri": "https://localhost:8080/",
          "height": 292
        },
        "outputId": "1b96c040-1b95-41b1-9a3f-13edb8f23f6b"
      },
      "source": [
        "df_trans = pd.read_excel('/content/KPMG_VI_New_raw_data_update_final.xlsx', 'Transactions')\n",
        "df_trans.head()"
      ],
      "execution_count": null,
      "outputs": [
        {
          "output_type": "execute_result",
          "data": {
            "text/html": [
              "<div>\n",
              "<style scoped>\n",
              "    .dataframe tbody tr th:only-of-type {\n",
              "        vertical-align: middle;\n",
              "    }\n",
              "\n",
              "    .dataframe tbody tr th {\n",
              "        vertical-align: top;\n",
              "    }\n",
              "\n",
              "    .dataframe thead th {\n",
              "        text-align: right;\n",
              "    }\n",
              "</style>\n",
              "<table border=\"1\" class=\"dataframe\">\n",
              "  <thead>\n",
              "    <tr style=\"text-align: right;\">\n",
              "      <th></th>\n",
              "      <th>transaction_id</th>\n",
              "      <th>product_id</th>\n",
              "      <th>customer_id</th>\n",
              "      <th>transaction_date</th>\n",
              "      <th>online_order</th>\n",
              "      <th>order_status</th>\n",
              "      <th>brand</th>\n",
              "      <th>product_line</th>\n",
              "      <th>product_class</th>\n",
              "      <th>product_size</th>\n",
              "      <th>list_price</th>\n",
              "      <th>standard_cost</th>\n",
              "      <th>product_first_sold_date</th>\n",
              "    </tr>\n",
              "  </thead>\n",
              "  <tbody>\n",
              "    <tr>\n",
              "      <th>0</th>\n",
              "      <td>1</td>\n",
              "      <td>2</td>\n",
              "      <td>2950</td>\n",
              "      <td>2017-02-25</td>\n",
              "      <td>0.0</td>\n",
              "      <td>Approved</td>\n",
              "      <td>Solex</td>\n",
              "      <td>Standard</td>\n",
              "      <td>medium</td>\n",
              "      <td>medium</td>\n",
              "      <td>71.49</td>\n",
              "      <td>53.62</td>\n",
              "      <td>41245.0</td>\n",
              "    </tr>\n",
              "    <tr>\n",
              "      <th>1</th>\n",
              "      <td>2</td>\n",
              "      <td>3</td>\n",
              "      <td>3120</td>\n",
              "      <td>2017-05-21</td>\n",
              "      <td>1.0</td>\n",
              "      <td>Approved</td>\n",
              "      <td>Trek Bicycles</td>\n",
              "      <td>Standard</td>\n",
              "      <td>medium</td>\n",
              "      <td>large</td>\n",
              "      <td>2091.47</td>\n",
              "      <td>388.92</td>\n",
              "      <td>41701.0</td>\n",
              "    </tr>\n",
              "    <tr>\n",
              "      <th>2</th>\n",
              "      <td>3</td>\n",
              "      <td>37</td>\n",
              "      <td>402</td>\n",
              "      <td>2017-10-16</td>\n",
              "      <td>0.0</td>\n",
              "      <td>Approved</td>\n",
              "      <td>OHM Cycles</td>\n",
              "      <td>Standard</td>\n",
              "      <td>low</td>\n",
              "      <td>medium</td>\n",
              "      <td>1793.43</td>\n",
              "      <td>248.82</td>\n",
              "      <td>36361.0</td>\n",
              "    </tr>\n",
              "    <tr>\n",
              "      <th>3</th>\n",
              "      <td>4</td>\n",
              "      <td>88</td>\n",
              "      <td>3135</td>\n",
              "      <td>2017-08-31</td>\n",
              "      <td>0.0</td>\n",
              "      <td>Approved</td>\n",
              "      <td>Norco Bicycles</td>\n",
              "      <td>Standard</td>\n",
              "      <td>medium</td>\n",
              "      <td>medium</td>\n",
              "      <td>1198.46</td>\n",
              "      <td>381.10</td>\n",
              "      <td>36145.0</td>\n",
              "    </tr>\n",
              "    <tr>\n",
              "      <th>4</th>\n",
              "      <td>5</td>\n",
              "      <td>78</td>\n",
              "      <td>787</td>\n",
              "      <td>2017-10-01</td>\n",
              "      <td>1.0</td>\n",
              "      <td>Approved</td>\n",
              "      <td>Giant Bicycles</td>\n",
              "      <td>Standard</td>\n",
              "      <td>medium</td>\n",
              "      <td>large</td>\n",
              "      <td>1765.30</td>\n",
              "      <td>709.48</td>\n",
              "      <td>42226.0</td>\n",
              "    </tr>\n",
              "  </tbody>\n",
              "</table>\n",
              "</div>"
            ],
            "text/plain": [
              "   transaction_id  product_id  ...  standard_cost product_first_sold_date\n",
              "0               1           2  ...          53.62                 41245.0\n",
              "1               2           3  ...         388.92                 41701.0\n",
              "2               3          37  ...         248.82                 36361.0\n",
              "3               4          88  ...         381.10                 36145.0\n",
              "4               5          78  ...         709.48                 42226.0\n",
              "\n",
              "[5 rows x 13 columns]"
            ]
          },
          "metadata": {
            "tags": []
          },
          "execution_count": 2
        }
      ]
    },
    {
      "cell_type": "code",
      "metadata": {
        "id": "1CgiD7TTHMCF",
        "colab_type": "code",
        "colab": {}
      },
      "source": [
        "def data_understanding(df):\n",
        "  return 'Data Dimension', df.shape , 60*'x',df.info(),60*'x', 'checking for missing values',df.isnull().sum(),'checking the number of unique values',60*'x', df.nunique()"
      ],
      "execution_count": null,
      "outputs": []
    },
    {
      "cell_type": "code",
      "metadata": {
        "id": "iaR9XE2cHja3",
        "colab_type": "code",
        "colab": {
          "base_uri": "https://localhost:8080/",
          "height": 969
        },
        "outputId": "934e9e83-5238-4830-e1ee-b896c535cd5c"
      },
      "source": [
        "data_understanding(df_trans)"
      ],
      "execution_count": null,
      "outputs": [
        {
          "output_type": "stream",
          "text": [
            "<class 'pandas.core.frame.DataFrame'>\n",
            "RangeIndex: 20000 entries, 0 to 19999\n",
            "Data columns (total 13 columns):\n",
            " #   Column                   Non-Null Count  Dtype         \n",
            "---  ------                   --------------  -----         \n",
            " 0   transaction_id           20000 non-null  int64         \n",
            " 1   product_id               20000 non-null  int64         \n",
            " 2   customer_id              20000 non-null  int64         \n",
            " 3   transaction_date         20000 non-null  datetime64[ns]\n",
            " 4   online_order             19640 non-null  float64       \n",
            " 5   order_status             20000 non-null  object        \n",
            " 6   brand                    19803 non-null  object        \n",
            " 7   product_line             19803 non-null  object        \n",
            " 8   product_class            19803 non-null  object        \n",
            " 9   product_size             19803 non-null  object        \n",
            " 10  list_price               20000 non-null  float64       \n",
            " 11  standard_cost            19803 non-null  float64       \n",
            " 12  product_first_sold_date  19803 non-null  float64       \n",
            "dtypes: datetime64[ns](1), float64(4), int64(3), object(5)\n",
            "memory usage: 2.0+ MB\n"
          ],
          "name": "stdout"
        },
        {
          "output_type": "execute_result",
          "data": {
            "text/plain": [
              "('Data Dimension',\n",
              " (20000, 13),\n",
              " 'xxxxxxxxxxxxxxxxxxxxxxxxxxxxxxxxxxxxxxxxxxxxxxxxxxxxxxxxxxxx',\n",
              " None,\n",
              " 'xxxxxxxxxxxxxxxxxxxxxxxxxxxxxxxxxxxxxxxxxxxxxxxxxxxxxxxxxxxx',\n",
              " 'checking for missing values',\n",
              " transaction_id               0\n",
              " product_id                   0\n",
              " customer_id                  0\n",
              " transaction_date             0\n",
              " online_order               360\n",
              " order_status                 0\n",
              " brand                      197\n",
              " product_line               197\n",
              " product_class              197\n",
              " product_size               197\n",
              " list_price                   0\n",
              " standard_cost              197\n",
              " product_first_sold_date    197\n",
              " dtype: int64,\n",
              " 'checking the number of unique values',\n",
              " 'xxxxxxxxxxxxxxxxxxxxxxxxxxxxxxxxxxxxxxxxxxxxxxxxxxxxxxxxxxxx',\n",
              " transaction_id             20000\n",
              " product_id                   101\n",
              " customer_id                 3494\n",
              " transaction_date             364\n",
              " online_order                   2\n",
              " order_status                   2\n",
              " brand                          6\n",
              " product_line                   4\n",
              " product_class                  3\n",
              " product_size                   3\n",
              " list_price                   296\n",
              " standard_cost                103\n",
              " product_first_sold_date      100\n",
              " dtype: int64)"
            ]
          },
          "metadata": {
            "tags": []
          },
          "execution_count": 4
        }
      ]
    },
    {
      "cell_type": "code",
      "metadata": {
        "id": "PjnT_hHHHBA3",
        "colab_type": "code",
        "colab": {}
      },
      "source": [
        "def drop_null_val(dataFrame, column_name ):#column should be in quotes\n",
        "  return dataFrame.dropna(subset = [column_name], inplace=True) ,'New shape :',dataFrame.shape"
      ],
      "execution_count": null,
      "outputs": []
    },
    {
      "cell_type": "code",
      "metadata": {
        "id": "Hm2cyiIZHqKm",
        "colab_type": "code",
        "colab": {
          "base_uri": "https://localhost:8080/",
          "height": 34
        },
        "outputId": "23d650b3-4d10-4662-f318-8129615f93c3"
      },
      "source": [
        "drop_null_val(df_trans, 'product_first_sold_date')"
      ],
      "execution_count": null,
      "outputs": [
        {
          "output_type": "execute_result",
          "data": {
            "text/plain": [
              "(None, 'New shape :', (19803, 13))"
            ]
          },
          "metadata": {
            "tags": []
          },
          "execution_count": 6
        }
      ]
    },
    {
      "cell_type": "code",
      "metadata": {
        "id": "2bJ9stA8_9cm",
        "colab_type": "code",
        "colab": {
          "base_uri": "https://localhost:8080/",
          "height": 326
        },
        "outputId": "acb6fadb-ac44-432d-f659-8ebaf6e4730d"
      },
      "source": [
        "customer = pd.read_excel('/content/KPMG_VI_New_raw_data_update_final.xlsx', 'CustomerDemographic',skiprows=1, index_col= None )\n",
        "customer.head()"
      ],
      "execution_count": null,
      "outputs": [
        {
          "output_type": "execute_result",
          "data": {
            "text/html": [
              "<div>\n",
              "<style scoped>\n",
              "    .dataframe tbody tr th:only-of-type {\n",
              "        vertical-align: middle;\n",
              "    }\n",
              "\n",
              "    .dataframe tbody tr th {\n",
              "        vertical-align: top;\n",
              "    }\n",
              "\n",
              "    .dataframe thead th {\n",
              "        text-align: right;\n",
              "    }\n",
              "</style>\n",
              "<table border=\"1\" class=\"dataframe\">\n",
              "  <thead>\n",
              "    <tr style=\"text-align: right;\">\n",
              "      <th></th>\n",
              "      <th>customer_id</th>\n",
              "      <th>first_name</th>\n",
              "      <th>last_name</th>\n",
              "      <th>gender</th>\n",
              "      <th>past_3_years_bike_related_purchases</th>\n",
              "      <th>DOB</th>\n",
              "      <th>customer_id.1</th>\n",
              "      <th>job_industry_category</th>\n",
              "      <th>wealth_segment</th>\n",
              "      <th>deceased_indicator</th>\n",
              "      <th>default</th>\n",
              "      <th>owns_car</th>\n",
              "      <th>tenure</th>\n",
              "    </tr>\n",
              "  </thead>\n",
              "  <tbody>\n",
              "    <tr>\n",
              "      <th>0</th>\n",
              "      <td>1.0</td>\n",
              "      <td>Laraine</td>\n",
              "      <td>Medendorp</td>\n",
              "      <td>F</td>\n",
              "      <td>93</td>\n",
              "      <td>1953-10-12</td>\n",
              "      <td>1</td>\n",
              "      <td>Health</td>\n",
              "      <td>Mass Customer</td>\n",
              "      <td>N</td>\n",
              "      <td>\"'</td>\n",
              "      <td>Yes</td>\n",
              "      <td>11.0</td>\n",
              "    </tr>\n",
              "    <tr>\n",
              "      <th>1</th>\n",
              "      <td>2.0</td>\n",
              "      <td>Eli</td>\n",
              "      <td>Bockman</td>\n",
              "      <td>Male</td>\n",
              "      <td>81</td>\n",
              "      <td>1980-12-16</td>\n",
              "      <td>2</td>\n",
              "      <td>Financial Services</td>\n",
              "      <td>Mass Customer</td>\n",
              "      <td>N</td>\n",
              "      <td>&lt;script&gt;alert('hi')&lt;/script&gt;</td>\n",
              "      <td>Yes</td>\n",
              "      <td>16.0</td>\n",
              "    </tr>\n",
              "    <tr>\n",
              "      <th>2</th>\n",
              "      <td>4.0</td>\n",
              "      <td>Arlin</td>\n",
              "      <td>Dearle</td>\n",
              "      <td>Male</td>\n",
              "      <td>61</td>\n",
              "      <td>1954-01-20</td>\n",
              "      <td>3</td>\n",
              "      <td>Property</td>\n",
              "      <td>Mass Customer</td>\n",
              "      <td>N</td>\n",
              "      <td>2018-02-01 00:00:00</td>\n",
              "      <td>Yes</td>\n",
              "      <td>15.0</td>\n",
              "    </tr>\n",
              "    <tr>\n",
              "      <th>3</th>\n",
              "      <td>5.0</td>\n",
              "      <td>Talbot</td>\n",
              "      <td>NaN</td>\n",
              "      <td>Male</td>\n",
              "      <td>33</td>\n",
              "      <td>1961-10-03</td>\n",
              "      <td>4</td>\n",
              "      <td>IT</td>\n",
              "      <td>Mass Customer</td>\n",
              "      <td>N</td>\n",
              "      <td>() { _; } &gt;_[$($())] { touch /tmp/blns.shellsh...</td>\n",
              "      <td>No</td>\n",
              "      <td>7.0</td>\n",
              "    </tr>\n",
              "    <tr>\n",
              "      <th>4</th>\n",
              "      <td>6.0</td>\n",
              "      <td>Sheila-kathryn</td>\n",
              "      <td>Calton</td>\n",
              "      <td>Female</td>\n",
              "      <td>56</td>\n",
              "      <td>1977-05-13</td>\n",
              "      <td>5</td>\n",
              "      <td>NaN</td>\n",
              "      <td>Affluent Customer</td>\n",
              "      <td>N</td>\n",
              "      <td>NIL</td>\n",
              "      <td>Yes</td>\n",
              "      <td>8.0</td>\n",
              "    </tr>\n",
              "  </tbody>\n",
              "</table>\n",
              "</div>"
            ],
            "text/plain": [
              "   customer_id      first_name  ... owns_car tenure\n",
              "0          1.0         Laraine  ...      Yes   11.0\n",
              "1          2.0             Eli  ...      Yes   16.0\n",
              "2          4.0           Arlin  ...      Yes   15.0\n",
              "3          5.0          Talbot  ...       No    7.0\n",
              "4          6.0  Sheila-kathryn  ...      Yes    8.0\n",
              "\n",
              "[5 rows x 13 columns]"
            ]
          },
          "metadata": {
            "tags": []
          },
          "execution_count": 7
        }
      ]
    },
    {
      "cell_type": "code",
      "metadata": {
        "id": "eKamvEC7KM8A",
        "colab_type": "code",
        "colab": {
          "base_uri": "https://localhost:8080/",
          "height": 969
        },
        "outputId": "7f59f34f-44c8-4617-ac95-1ae7feefc551"
      },
      "source": [
        "data_understanding(customer)"
      ],
      "execution_count": null,
      "outputs": [
        {
          "output_type": "stream",
          "text": [
            "<class 'pandas.core.frame.DataFrame'>\n",
            "RangeIndex: 4000 entries, 0 to 3999\n",
            "Data columns (total 13 columns):\n",
            " #   Column                               Non-Null Count  Dtype         \n",
            "---  ------                               --------------  -----         \n",
            " 0   customer_id                          3999 non-null   float64       \n",
            " 1   first_name                           4000 non-null   object        \n",
            " 2   last_name                            3875 non-null   object        \n",
            " 3   gender                               4000 non-null   object        \n",
            " 4   past_3_years_bike_related_purchases  4000 non-null   int64         \n",
            " 5   DOB                                  3913 non-null   datetime64[ns]\n",
            " 6   customer_id.1                        4000 non-null   object        \n",
            " 7   job_industry_category                3344 non-null   object        \n",
            " 8   wealth_segment                       4000 non-null   object        \n",
            " 9   deceased_indicator                   4000 non-null   object        \n",
            " 10  default                              3698 non-null   object        \n",
            " 11  owns_car                             4000 non-null   object        \n",
            " 12  tenure                               3913 non-null   float64       \n",
            "dtypes: datetime64[ns](1), float64(2), int64(1), object(9)\n",
            "memory usage: 406.4+ KB\n"
          ],
          "name": "stdout"
        },
        {
          "output_type": "execute_result",
          "data": {
            "text/plain": [
              "('Data Dimension',\n",
              " (4000, 13),\n",
              " 'xxxxxxxxxxxxxxxxxxxxxxxxxxxxxxxxxxxxxxxxxxxxxxxxxxxxxxxxxxxx',\n",
              " None,\n",
              " 'xxxxxxxxxxxxxxxxxxxxxxxxxxxxxxxxxxxxxxxxxxxxxxxxxxxxxxxxxxxx',\n",
              " 'checking for missing values',\n",
              " customer_id                              1\n",
              " first_name                               0\n",
              " last_name                              125\n",
              " gender                                   0\n",
              " past_3_years_bike_related_purchases      0\n",
              " DOB                                     87\n",
              " customer_id.1                            0\n",
              " job_industry_category                  656\n",
              " wealth_segment                           0\n",
              " deceased_indicator                       0\n",
              " default                                302\n",
              " owns_car                                 0\n",
              " tenure                                  87\n",
              " dtype: int64,\n",
              " 'checking the number of unique values',\n",
              " 'xxxxxxxxxxxxxxxxxxxxxxxxxxxxxxxxxxxxxxxxxxxxxxxxxxxxxxxxxxxx',\n",
              " customer_id                            3999\n",
              " first_name                             3139\n",
              " last_name                              3725\n",
              " gender                                    6\n",
              " past_3_years_bike_related_purchases     100\n",
              " DOB                                    3448\n",
              " customer_id.1                          4000\n",
              " job_industry_category                     9\n",
              " wealth_segment                            3\n",
              " deceased_indicator                        2\n",
              " default                                  90\n",
              " owns_car                                  2\n",
              " tenure                                   22\n",
              " dtype: int64)"
            ]
          },
          "metadata": {
            "tags": []
          },
          "execution_count": 8
        }
      ]
    },
    {
      "cell_type": "code",
      "metadata": {
        "id": "QEshfSbAKmQR",
        "colab_type": "code",
        "colab": {}
      },
      "source": [
        "customer.dropna(subset = ['tenure', 'DOB'], inplace = True)#dropping null values for the sensitive fields"
      ],
      "execution_count": null,
      "outputs": []
    },
    {
      "cell_type": "code",
      "metadata": {
        "id": "gar5alIVLMqR",
        "colab_type": "code",
        "colab": {
          "base_uri": "https://localhost:8080/",
          "height": 296
        },
        "outputId": "2cf610f1-3a92-42d7-dd66-f05ef04c4e3e"
      },
      "source": [
        "customer['year']= customer.DOB.dt.year\n",
        "sns.boxplot(x = customer.year) #checking for outliers"
      ],
      "execution_count": null,
      "outputs": [
        {
          "output_type": "execute_result",
          "data": {
            "text/plain": [
              "<matplotlib.axes._subplots.AxesSubplot at 0x7f4b7a8ace80>"
            ]
          },
          "metadata": {
            "tags": []
          },
          "execution_count": 10
        },
        {
          "output_type": "display_data",
          "data": {
            "image/png": "[encoded data removed]",
            "text/plain": [
              "<Figure size 432x288 with 1 Axes>"
            ]
          },
          "metadata": {
            "tags": [],
            "needs_background": "light"
          }
        }
      ]
    },
    {
      "cell_type": "code",
      "metadata": {
        "id": "9U-Q-j9OLh5k",
        "colab_type": "code",
        "colab": {}
      },
      "source": [
        "#removing outliers that are below the year 1930\n",
        "customer =customer[customer.year>= 1970] "
      ],
      "execution_count": null,
      "outputs": []
    },
    {
      "cell_type": "code",
      "metadata": {
        "id": "a9LEUiR-Ab6_",
        "colab_type": "code",
        "colab": {
          "base_uri": "https://localhost:8080/",
          "height": 204
        },
        "outputId": "ca8eaf88-59c4-444e-bb56-bf714bd956af"
      },
      "source": [
        "custAdres = pd.read_excel('/content/KPMG_VI_New_raw_data_update_final.xlsx', 'CustomerAddress', skiprows=1)\n",
        "custAdres.head()"
      ],
      "execution_count": null,
      "outputs": [
        {
          "output_type": "execute_result",
          "data": {
            "text/html": [
              "<div>\n",
              "<style scoped>\n",
              "    .dataframe tbody tr th:only-of-type {\n",
              "        vertical-align: middle;\n",
              "    }\n",
              "\n",
              "    .dataframe tbody tr th {\n",
              "        vertical-align: top;\n",
              "    }\n",
              "\n",
              "    .dataframe thead th {\n",
              "        text-align: right;\n",
              "    }\n",
              "</style>\n",
              "<table border=\"1\" class=\"dataframe\">\n",
              "  <thead>\n",
              "    <tr style=\"text-align: right;\">\n",
              "      <th></th>\n",
              "      <th>customer_id</th>\n",
              "      <th>address</th>\n",
              "      <th>postcode</th>\n",
              "      <th>state</th>\n",
              "      <th>country</th>\n",
              "      <th>property_valuation</th>\n",
              "    </tr>\n",
              "  </thead>\n",
              "  <tbody>\n",
              "    <tr>\n",
              "      <th>0</th>\n",
              "      <td>1</td>\n",
              "      <td>060 Morning Avenue</td>\n",
              "      <td>2016</td>\n",
              "      <td>New South Wales</td>\n",
              "      <td>Australia</td>\n",
              "      <td>10</td>\n",
              "    </tr>\n",
              "    <tr>\n",
              "      <th>1</th>\n",
              "      <td>2</td>\n",
              "      <td>6 Meadow Vale Court</td>\n",
              "      <td>2153</td>\n",
              "      <td>New South Wales</td>\n",
              "      <td>Australia</td>\n",
              "      <td>10</td>\n",
              "    </tr>\n",
              "    <tr>\n",
              "      <th>2</th>\n",
              "      <td>4</td>\n",
              "      <td>0 Holy Cross Court</td>\n",
              "      <td>4211</td>\n",
              "      <td>QLD</td>\n",
              "      <td>Australia</td>\n",
              "      <td>9</td>\n",
              "    </tr>\n",
              "    <tr>\n",
              "      <th>3</th>\n",
              "      <td>5</td>\n",
              "      <td>17979 Del Mar Point</td>\n",
              "      <td>2448</td>\n",
              "      <td>New South Wales</td>\n",
              "      <td>Australia</td>\n",
              "      <td>4</td>\n",
              "    </tr>\n",
              "    <tr>\n",
              "      <th>4</th>\n",
              "      <td>6</td>\n",
              "      <td>9 Oakridge Court</td>\n",
              "      <td>3216</td>\n",
              "      <td>VIC</td>\n",
              "      <td>Australia</td>\n",
              "      <td>9</td>\n",
              "    </tr>\n",
              "  </tbody>\n",
              "</table>\n",
              "</div>"
            ],
            "text/plain": [
              "   customer_id              address  ...    country property_valuation\n",
              "0            1   060 Morning Avenue  ...  Australia                 10\n",
              "1            2  6 Meadow Vale Court  ...  Australia                 10\n",
              "2            4   0 Holy Cross Court  ...  Australia                  9\n",
              "3            5  17979 Del Mar Point  ...  Australia                  4\n",
              "4            6     9 Oakridge Court  ...  Australia                  9\n",
              "\n",
              "[5 rows x 6 columns]"
            ]
          },
          "metadata": {
            "tags": []
          },
          "execution_count": 12
        }
      ]
    },
    {
      "cell_type": "code",
      "metadata": {
        "id": "TgJLHQKgAsbc",
        "colab_type": "code",
        "colab": {
          "base_uri": "https://localhost:8080/",
          "height": 612
        },
        "outputId": "5715e095-73e6-4c0e-c37c-6c567b37614c"
      },
      "source": [
        "data_understanding(custAdres)"
      ],
      "execution_count": null,
      "outputs": [
        {
          "output_type": "stream",
          "text": [
            "<class 'pandas.core.frame.DataFrame'>\n",
            "RangeIndex: 3999 entries, 0 to 3998\n",
            "Data columns (total 6 columns):\n",
            " #   Column              Non-Null Count  Dtype \n",
            "---  ------              --------------  ----- \n",
            " 0   customer_id         3999 non-null   int64 \n",
            " 1   address             3999 non-null   object\n",
            " 2   postcode            3999 non-null   int64 \n",
            " 3   state               3999 non-null   object\n",
            " 4   country             3999 non-null   object\n",
            " 5   property_valuation  3999 non-null   int64 \n",
            "dtypes: int64(3), object(3)\n",
            "memory usage: 187.6+ KB\n"
          ],
          "name": "stdout"
        },
        {
          "output_type": "execute_result",
          "data": {
            "text/plain": [
              "('Data Dimension',\n",
              " (3999, 6),\n",
              " 'xxxxxxxxxxxxxxxxxxxxxxxxxxxxxxxxxxxxxxxxxxxxxxxxxxxxxxxxxxxx',\n",
              " None,\n",
              " 'xxxxxxxxxxxxxxxxxxxxxxxxxxxxxxxxxxxxxxxxxxxxxxxxxxxxxxxxxxxx',\n",
              " 'checking for missing values',\n",
              " customer_id           0\n",
              " address               0\n",
              " postcode              0\n",
              " state                 0\n",
              " country               0\n",
              " property_valuation    0\n",
              " dtype: int64,\n",
              " 'checking the number of unique values',\n",
              " 'xxxxxxxxxxxxxxxxxxxxxxxxxxxxxxxxxxxxxxxxxxxxxxxxxxxxxxxxxxxx',\n",
              " customer_id           3999\n",
              " address               3996\n",
              " postcode               873\n",
              " state                    5\n",
              " country                  1\n",
              " property_valuation      12\n",
              " dtype: int64)"
            ]
          },
          "metadata": {
            "tags": []
          },
          "execution_count": 13
        }
      ]
    },
    {
      "cell_type": "code",
      "metadata": {
        "id": "BSOq0f4829Zf",
        "colab_type": "code",
        "colab": {
          "base_uri": "https://localhost:8080/",
          "height": 445
        },
        "outputId": "1ec0a32d-e78c-4e3e-d2a4-1e9c10196e35"
      },
      "source": [
        "cust_trans = pd.merge(df_trans, customer, how='inner', on = 'customer_id')\n",
        "merged_df = pd.merge(custAdres, cust_trans , how ='inner', on='customer_id')\n",
        "merged_df = merged_df.drop(['default'], 1)\n",
        "merged_df.head()"
      ],
      "execution_count": null,
      "outputs": [
        {
          "output_type": "execute_result",
          "data": {
            "text/html": [
              "<div>\n",
              "<style scoped>\n",
              "    .dataframe tbody tr th:only-of-type {\n",
              "        vertical-align: middle;\n",
              "    }\n",
              "\n",
              "    .dataframe tbody tr th {\n",
              "        vertical-align: top;\n",
              "    }\n",
              "\n",
              "    .dataframe thead th {\n",
              "        text-align: right;\n",
              "    }\n",
              "</style>\n",
              "<table border=\"1\" class=\"dataframe\">\n",
              "  <thead>\n",
              "    <tr style=\"text-align: right;\">\n",
              "      <th></th>\n",
              "      <th>customer_id</th>\n",
              "      <th>address</th>\n",
              "      <th>postcode</th>\n",
              "      <th>state</th>\n",
              "      <th>country</th>\n",
              "      <th>property_valuation</th>\n",
              "      <th>transaction_id</th>\n",
              "      <th>product_id</th>\n",
              "      <th>transaction_date</th>\n",
              "      <th>online_order</th>\n",
              "      <th>order_status</th>\n",
              "      <th>brand</th>\n",
              "      <th>product_line</th>\n",
              "      <th>product_class</th>\n",
              "      <th>product_size</th>\n",
              "      <th>list_price</th>\n",
              "      <th>standard_cost</th>\n",
              "      <th>product_first_sold_date</th>\n",
              "      <th>first_name</th>\n",
              "      <th>last_name</th>\n",
              "      <th>gender</th>\n",
              "      <th>past_3_years_bike_related_purchases</th>\n",
              "      <th>DOB</th>\n",
              "      <th>customer_id.1</th>\n",
              "      <th>job_industry_category</th>\n",
              "      <th>wealth_segment</th>\n",
              "      <th>deceased_indicator</th>\n",
              "      <th>owns_car</th>\n",
              "      <th>tenure</th>\n",
              "      <th>year</th>\n",
              "    </tr>\n",
              "  </thead>\n",
              "  <tbody>\n",
              "    <tr>\n",
              "      <th>0</th>\n",
              "      <td>2</td>\n",
              "      <td>6 Meadow Vale Court</td>\n",
              "      <td>2153</td>\n",
              "      <td>New South Wales</td>\n",
              "      <td>Australia</td>\n",
              "      <td>10</td>\n",
              "      <td>2261</td>\n",
              "      <td>1</td>\n",
              "      <td>2017-05-04</td>\n",
              "      <td>1.0</td>\n",
              "      <td>Approved</td>\n",
              "      <td>Giant Bicycles</td>\n",
              "      <td>Standard</td>\n",
              "      <td>medium</td>\n",
              "      <td>medium</td>\n",
              "      <td>1403.50</td>\n",
              "      <td>954.82</td>\n",
              "      <td>40784.0</td>\n",
              "      <td>Eli</td>\n",
              "      <td>Bockman</td>\n",
              "      <td>Male</td>\n",
              "      <td>81</td>\n",
              "      <td>1980-12-16</td>\n",
              "      <td>2</td>\n",
              "      <td>Financial Services</td>\n",
              "      <td>Mass Customer</td>\n",
              "      <td>N</td>\n",
              "      <td>Yes</td>\n",
              "      <td>16.0</td>\n",
              "      <td>1980</td>\n",
              "    </tr>\n",
              "    <tr>\n",
              "      <th>1</th>\n",
              "      <td>2</td>\n",
              "      <td>6 Meadow Vale Court</td>\n",
              "      <td>2153</td>\n",
              "      <td>New South Wales</td>\n",
              "      <td>Australia</td>\n",
              "      <td>10</td>\n",
              "      <td>6743</td>\n",
              "      <td>85</td>\n",
              "      <td>2017-06-11</td>\n",
              "      <td>0.0</td>\n",
              "      <td>Approved</td>\n",
              "      <td>WeareA2B</td>\n",
              "      <td>Standard</td>\n",
              "      <td>medium</td>\n",
              "      <td>medium</td>\n",
              "      <td>752.64</td>\n",
              "      <td>205.36</td>\n",
              "      <td>38206.0</td>\n",
              "      <td>Eli</td>\n",
              "      <td>Bockman</td>\n",
              "      <td>Male</td>\n",
              "      <td>81</td>\n",
              "      <td>1980-12-16</td>\n",
              "      <td>2</td>\n",
              "      <td>Financial Services</td>\n",
              "      <td>Mass Customer</td>\n",
              "      <td>N</td>\n",
              "      <td>Yes</td>\n",
              "      <td>16.0</td>\n",
              "      <td>1980</td>\n",
              "    </tr>\n",
              "    <tr>\n",
              "      <th>2</th>\n",
              "      <td>2</td>\n",
              "      <td>6 Meadow Vale Court</td>\n",
              "      <td>2153</td>\n",
              "      <td>New South Wales</td>\n",
              "      <td>Australia</td>\n",
              "      <td>10</td>\n",
              "      <td>16411</td>\n",
              "      <td>26</td>\n",
              "      <td>2017-08-24</td>\n",
              "      <td>0.0</td>\n",
              "      <td>Approved</td>\n",
              "      <td>WeareA2B</td>\n",
              "      <td>Standard</td>\n",
              "      <td>medium</td>\n",
              "      <td>medium</td>\n",
              "      <td>1992.93</td>\n",
              "      <td>762.63</td>\n",
              "      <td>37337.0</td>\n",
              "      <td>Eli</td>\n",
              "      <td>Bockman</td>\n",
              "      <td>Male</td>\n",
              "      <td>81</td>\n",
              "      <td>1980-12-16</td>\n",
              "      <td>2</td>\n",
              "      <td>Financial Services</td>\n",
              "      <td>Mass Customer</td>\n",
              "      <td>N</td>\n",
              "      <td>Yes</td>\n",
              "      <td>16.0</td>\n",
              "      <td>1980</td>\n",
              "    </tr>\n",
              "    <tr>\n",
              "      <th>3</th>\n",
              "      <td>6</td>\n",
              "      <td>9 Oakridge Court</td>\n",
              "      <td>3216</td>\n",
              "      <td>VIC</td>\n",
              "      <td>Australia</td>\n",
              "      <td>9</td>\n",
              "      <td>902</td>\n",
              "      <td>0</td>\n",
              "      <td>2017-05-21</td>\n",
              "      <td>0.0</td>\n",
              "      <td>Approved</td>\n",
              "      <td>Trek Bicycles</td>\n",
              "      <td>Standard</td>\n",
              "      <td>high</td>\n",
              "      <td>medium</td>\n",
              "      <td>358.39</td>\n",
              "      <td>215.03</td>\n",
              "      <td>33364.0</td>\n",
              "      <td>Sheila-kathryn</td>\n",
              "      <td>Calton</td>\n",
              "      <td>Female</td>\n",
              "      <td>56</td>\n",
              "      <td>1977-05-13</td>\n",
              "      <td>5</td>\n",
              "      <td>NaN</td>\n",
              "      <td>Affluent Customer</td>\n",
              "      <td>N</td>\n",
              "      <td>Yes</td>\n",
              "      <td>8.0</td>\n",
              "      <td>1977</td>\n",
              "    </tr>\n",
              "    <tr>\n",
              "      <th>4</th>\n",
              "      <td>6</td>\n",
              "      <td>9 Oakridge Court</td>\n",
              "      <td>3216</td>\n",
              "      <td>VIC</td>\n",
              "      <td>Australia</td>\n",
              "      <td>9</td>\n",
              "      <td>4013</td>\n",
              "      <td>0</td>\n",
              "      <td>2017-09-16</td>\n",
              "      <td>0.0</td>\n",
              "      <td>Approved</td>\n",
              "      <td>Giant Bicycles</td>\n",
              "      <td>Standard</td>\n",
              "      <td>medium</td>\n",
              "      <td>medium</td>\n",
              "      <td>230.91</td>\n",
              "      <td>173.18</td>\n",
              "      <td>36361.0</td>\n",
              "      <td>Sheila-kathryn</td>\n",
              "      <td>Calton</td>\n",
              "      <td>Female</td>\n",
              "      <td>56</td>\n",
              "      <td>1977-05-13</td>\n",
              "      <td>5</td>\n",
              "      <td>NaN</td>\n",
              "      <td>Affluent Customer</td>\n",
              "      <td>N</td>\n",
              "      <td>Yes</td>\n",
              "      <td>8.0</td>\n",
              "      <td>1977</td>\n",
              "    </tr>\n",
              "  </tbody>\n",
              "</table>\n",
              "</div>"
            ],
            "text/plain": [
              "   customer_id              address  postcode  ... owns_car tenure  year\n",
              "0            2  6 Meadow Vale Court      2153  ...      Yes   16.0  1980\n",
              "1            2  6 Meadow Vale Court      2153  ...      Yes   16.0  1980\n",
              "2            2  6 Meadow Vale Court      2153  ...      Yes   16.0  1980\n",
              "3            6     9 Oakridge Court      3216  ...      Yes    8.0  1977\n",
              "4            6     9 Oakridge Court      3216  ...      Yes    8.0  1977\n",
              "\n",
              "[5 rows x 30 columns]"
            ]
          },
          "metadata": {
            "tags": []
          },
          "execution_count": 14
        }
      ]
    },
    {
      "cell_type": "code",
      "metadata": {
        "id": "rVZluj8esg8h",
        "colab_type": "code",
        "colab": {}
      },
      "source": [
        "merged_df.dropna(inplace = True)"
      ],
      "execution_count": null,
      "outputs": []
    },
    {
      "cell_type": "markdown",
      "metadata": {
        "id": "jZ9ELVTaMEdD",
        "colab_type": "text"
      },
      "source": [
        "##Feature engineering"
      ]
    },
    {
      "cell_type": "code",
      "metadata": {
        "id": "Kw5I-nweHkK_",
        "colab_type": "code",
        "colab": {}
      },
      "source": [
        "merged_df['month'] = merged_df.transaction_date.dt.strftime('%b')#to obtain monthly for the transaction dates"
      ],
      "execution_count": null,
      "outputs": []
    },
    {
      "cell_type": "code",
      "metadata": {
        "id": "Izl3Sm_TRjRq",
        "colab_type": "code",
        "colab": {}
      },
      "source": [
        "#obtaining the ages of customers using 2017 as the reference year.\n",
        "Ages=[]\n",
        "for yr in merged_df.year:\n",
        "  age = 2017-yr\n",
        "  Ages.append(age)\n",
        "merged_df['Age'] = Ages"
      ],
      "execution_count": null,
      "outputs": []
    },
    {
      "cell_type": "code",
      "metadata": {
        "id": "3DMaqmorR9Bd",
        "colab_type": "code",
        "colab": {}
      },
      "source": [
        "#calulating profit margins using standard cost and list price\n",
        "margins = merged_df.list_price - merged_df.standard_cost\n",
        "merged_df['profit_margin'] = margins"
      ],
      "execution_count": null,
      "outputs": []
    },
    {
      "cell_type": "markdown",
      "metadata": {
        "id": "h6RV1YZHS2Ss",
        "colab_type": "text"
      },
      "source": [
        "##Data Exploratory analysis"
      ]
    },
    {
      "cell_type": "code",
      "metadata": {
        "id": "wM6cO7oUO8DY",
        "colab_type": "code",
        "colab": {
          "base_uri": "https://localhost:8080/",
          "height": 317
        },
        "outputId": "7b580840-50df-4fd9-a7c2-ae6b7d648ec4"
      },
      "source": [
        "merged_df.describe()"
      ],
      "execution_count": null,
      "outputs": [
        {
          "output_type": "execute_result",
          "data": {
            "text/html": [
              "<div>\n",
              "<style scoped>\n",
              "    .dataframe tbody tr th:only-of-type {\n",
              "        vertical-align: middle;\n",
              "    }\n",
              "\n",
              "    .dataframe tbody tr th {\n",
              "        vertical-align: top;\n",
              "    }\n",
              "\n",
              "    .dataframe thead th {\n",
              "        text-align: right;\n",
              "    }\n",
              "</style>\n",
              "<table border=\"1\" class=\"dataframe\">\n",
              "  <thead>\n",
              "    <tr style=\"text-align: right;\">\n",
              "      <th></th>\n",
              "      <th>customer_id</th>\n",
              "      <th>postcode</th>\n",
              "      <th>property_valuation</th>\n",
              "      <th>transaction_id</th>\n",
              "      <th>product_id</th>\n",
              "      <th>online_order</th>\n",
              "      <th>list_price</th>\n",
              "      <th>standard_cost</th>\n",
              "      <th>product_first_sold_date</th>\n",
              "      <th>past_3_years_bike_related_purchases</th>\n",
              "      <th>tenure</th>\n",
              "      <th>year</th>\n",
              "      <th>Age</th>\n",
              "      <th>profit_margin</th>\n",
              "    </tr>\n",
              "  </thead>\n",
              "  <tbody>\n",
              "    <tr>\n",
              "      <th>count</th>\n",
              "      <td>11068.000000</td>\n",
              "      <td>11068.000000</td>\n",
              "      <td>11068.000000</td>\n",
              "      <td>11068.000000</td>\n",
              "      <td>11068.000000</td>\n",
              "      <td>11068.000000</td>\n",
              "      <td>11068.000000</td>\n",
              "      <td>11068.000000</td>\n",
              "      <td>11068.000000</td>\n",
              "      <td>11068.000000</td>\n",
              "      <td>11068.000000</td>\n",
              "      <td>11068.000000</td>\n",
              "      <td>11068.000000</td>\n",
              "      <td>11068.000000</td>\n",
              "    </tr>\n",
              "    <tr>\n",
              "      <th>mean</th>\n",
              "      <td>1720.142664</td>\n",
              "      <td>2994.490694</td>\n",
              "      <td>7.482562</td>\n",
              "      <td>9996.470365</td>\n",
              "      <td>46.023581</td>\n",
              "      <td>0.498193</td>\n",
              "      <td>1107.374108</td>\n",
              "      <td>557.615002</td>\n",
              "      <td>38176.990332</td>\n",
              "      <td>49.516082</td>\n",
              "      <td>10.116191</td>\n",
              "      <td>1983.453650</td>\n",
              "      <td>33.546350</td>\n",
              "      <td>549.759106</td>\n",
              "    </tr>\n",
              "    <tr>\n",
              "      <th>std</th>\n",
              "      <td>1006.363576</td>\n",
              "      <td>842.789165</td>\n",
              "      <td>2.816512</td>\n",
              "      <td>5786.248362</td>\n",
              "      <td>30.604173</td>\n",
              "      <td>0.500019</td>\n",
              "      <td>582.158720</td>\n",
              "      <td>405.845577</td>\n",
              "      <td>2893.420994</td>\n",
              "      <td>28.585025</td>\n",
              "      <td>5.967811</td>\n",
              "      <td>8.745951</td>\n",
              "      <td>8.745951</td>\n",
              "      <td>491.912057</td>\n",
              "    </tr>\n",
              "    <tr>\n",
              "      <th>min</th>\n",
              "      <td>2.000000</td>\n",
              "      <td>2000.000000</td>\n",
              "      <td>1.000000</td>\n",
              "      <td>1.000000</td>\n",
              "      <td>0.000000</td>\n",
              "      <td>0.000000</td>\n",
              "      <td>12.010000</td>\n",
              "      <td>7.210000</td>\n",
              "      <td>33259.000000</td>\n",
              "      <td>0.000000</td>\n",
              "      <td>1.000000</td>\n",
              "      <td>1970.000000</td>\n",
              "      <td>15.000000</td>\n",
              "      <td>4.800000</td>\n",
              "    </tr>\n",
              "    <tr>\n",
              "      <th>25%</th>\n",
              "      <td>835.750000</td>\n",
              "      <td>2211.000000</td>\n",
              "      <td>6.000000</td>\n",
              "      <td>4962.500000</td>\n",
              "      <td>18.000000</td>\n",
              "      <td>0.000000</td>\n",
              "      <td>575.270000</td>\n",
              "      <td>215.140000</td>\n",
              "      <td>35560.000000</td>\n",
              "      <td>25.000000</td>\n",
              "      <td>5.000000</td>\n",
              "      <td>1976.000000</td>\n",
              "      <td>26.000000</td>\n",
              "      <td>133.780000</td>\n",
              "    </tr>\n",
              "    <tr>\n",
              "      <th>50%</th>\n",
              "      <td>1684.000000</td>\n",
              "      <td>2770.000000</td>\n",
              "      <td>8.000000</td>\n",
              "      <td>9969.000000</td>\n",
              "      <td>45.000000</td>\n",
              "      <td>0.000000</td>\n",
              "      <td>1163.890000</td>\n",
              "      <td>507.580000</td>\n",
              "      <td>38206.000000</td>\n",
              "      <td>49.000000</td>\n",
              "      <td>10.000000</td>\n",
              "      <td>1981.000000</td>\n",
              "      <td>36.000000</td>\n",
              "      <td>445.210000</td>\n",
              "    </tr>\n",
              "    <tr>\n",
              "      <th>75%</th>\n",
              "      <td>2595.000000</td>\n",
              "      <td>3677.000000</td>\n",
              "      <td>10.000000</td>\n",
              "      <td>15026.750000</td>\n",
              "      <td>73.000000</td>\n",
              "      <td>1.000000</td>\n",
              "      <td>1635.300000</td>\n",
              "      <td>795.100000</td>\n",
              "      <td>40779.000000</td>\n",
              "      <td>74.000000</td>\n",
              "      <td>15.000000</td>\n",
              "      <td>1991.000000</td>\n",
              "      <td>41.000000</td>\n",
              "      <td>830.240000</td>\n",
              "    </tr>\n",
              "    <tr>\n",
              "      <th>max</th>\n",
              "      <td>3500.000000</td>\n",
              "      <td>4883.000000</td>\n",
              "      <td>12.000000</td>\n",
              "      <td>19999.000000</td>\n",
              "      <td>100.000000</td>\n",
              "      <td>1.000000</td>\n",
              "      <td>2091.470000</td>\n",
              "      <td>1759.850000</td>\n",
              "      <td>42710.000000</td>\n",
              "      <td>99.000000</td>\n",
              "      <td>22.000000</td>\n",
              "      <td>2002.000000</td>\n",
              "      <td>47.000000</td>\n",
              "      <td>1702.550000</td>\n",
              "    </tr>\n",
              "  </tbody>\n",
              "</table>\n",
              "</div>"
            ],
            "text/plain": [
              "        customer_id      postcode  ...           Age  profit_margin\n",
              "count  11068.000000  11068.000000  ...  11068.000000   11068.000000\n",
              "mean    1720.142664   2994.490694  ...     33.546350     549.759106\n",
              "std     1006.363576    842.789165  ...      8.745951     491.912057\n",
              "min        2.000000   2000.000000  ...     15.000000       4.800000\n",
              "25%      835.750000   2211.000000  ...     26.000000     133.780000\n",
              "50%     1684.000000   2770.000000  ...     36.000000     445.210000\n",
              "75%     2595.000000   3677.000000  ...     41.000000     830.240000\n",
              "max     3500.000000   4883.000000  ...     47.000000    1702.550000\n",
              "\n",
              "[8 rows x 14 columns]"
            ]
          },
          "metadata": {
            "tags": []
          },
          "execution_count": 19
        }
      ]
    },
    {
      "cell_type": "code",
      "metadata": {
        "id": "rM28dwMeQUcV",
        "colab_type": "code",
        "colab": {}
      },
      "source": [
        "merged_df.gender = merged_df.gender.replace({'F':'Female', 'Femal':'Female', 'M': 'Male'}) \n",
        "merged_df.state = merged_df.state.replace({'NSW':'New South Wales', 'VIC':'Victoria'})# correcting to have consistency"
      ],
      "execution_count": null,
      "outputs": []
    },
    {
      "cell_type": "code",
      "metadata": {
        "id": "ePCi6avhWkmD",
        "colab_type": "code",
        "colab": {}
      },
      "source": [
        "merged_df.to_csv('kpmg_dataset.csv')"
      ],
      "execution_count": null,
      "outputs": []
    },
    {
      "cell_type": "markdown",
      "metadata": {
        "id": "2Bfs-PPwQVAC",
        "colab_type": "text"
      },
      "source": [
        "##Data exploration"
      ]
    },
    {
      "cell_type": "code",
      "metadata": {
        "id": "dpXvNHpjA0du",
        "colab_type": "code",
        "colab": {
          "base_uri": "https://localhost:8080/",
          "height": 592
        },
        "outputId": "0f36cbd3-8249-4d3c-e65f-e87755e63c31"
      },
      "source": [
        "fig, ax = plt.subplots(2,2, figsize = (14,10))\n",
        "ax[0,0].plot(merged_df.groupby(['product_line']).count()['customer_id'])\n",
        "ax[0,1].plot(merged_df.groupby(['wealth_segment']).count()['customer_id'])\n",
        "ax[1,0].plot(merged_df.groupby(['product_class']).count()['customer_id'])\n",
        "ax[1,1].plot(merged_df.groupby(['gender']).count()['customer_id'])\n",
        "plt.show()\n"
      ],
      "execution_count": null,
      "outputs": [
        {
          "output_type": "display_data",
          "data": {
            "image/png": "[encoded data removed]",
            "text/plain": [
              "<Figure size 1008x720 with 4 Axes>"
            ]
          },
          "metadata": {
            "tags": [],
            "needs_background": "light"
          }
        }
      ]
    },
    {
      "cell_type": "code",
      "metadata": {
        "id": "WXNiGEz6T-mp",
        "colab_type": "code",
        "colab": {
          "base_uri": "https://localhost:8080/",
          "height": 592
        },
        "outputId": "d9d8575e-935d-4573-9c5c-11647908ea70"
      },
      "source": [
        "fig, ax = plt.subplots(2,2, figsize = (14,10))\n",
        "ax[0,0].plot(merged_df.groupby(['deceased_indicator']).count()['customer_id'])\n",
        "ax[0,1].plot(merged_df.groupby(['state']).count()['customer_id'])\n",
        "ax[1,0].plot(merged_df.groupby(['owns_car']).count()['customer_id'])\n",
        "ax[1,1].plot(merged_df.groupby(['product_size']).count()['customer_id'])\n",
        "plt.show()"
      ],
      "execution_count": null,
      "outputs": [
        {
          "output_type": "display_data",
          "data": {
            "image/png": "[encoded data removed]",
            "text/plain": [
              "<Figure size 1008x720 with 4 Axes>"
            ]
          },
          "metadata": {
            "tags": [],
            "needs_background": "light"
          }
        }
      ]
    },
    {
      "cell_type": "code",
      "metadata": {
        "id": "AYKtx587dMHo",
        "colab_type": "code",
        "colab": {
          "base_uri": "https://localhost:8080/",
          "height": 405
        },
        "outputId": "8dcf8596-1aaf-4d99-e91c-f44d1e028bae"
      },
      "source": [
        "fig, axes= plt.subplots(1,2,figsize=(12, 6) )\n",
        "sns.countplot(x ='owns_car', data = merged_df, hue = 'product_line', ax = axes[0])\n",
        "sns.countplot(x ='state', data = merged_df, hue = 'wealth_segment', ax = axes[1])\n",
        "# # ax[0,0].plt.xticks(rotation = 45)"
      ],
      "execution_count": null,
      "outputs": [
        {
          "output_type": "execute_result",
          "data": {
            "text/plain": [
              "<matplotlib.axes._subplots.AxesSubplot at 0x7f4b7a63c5f8>"
            ]
          },
          "metadata": {
            "tags": []
          },
          "execution_count": 24
        },
        {
          "output_type": "display_data",
          "data": {
            "image/png": "[encoded data removed]",
            "text/plain": [
              "<Figure size 864x432 with 2 Axes>"
            ]
          },
          "metadata": {
            "tags": [],
            "needs_background": "light"
          }
        }
      ]
    },
    {
      "cell_type": "code",
      "metadata": {
        "id": "G1ZhoNgo5Stw",
        "colab_type": "code",
        "colab": {
          "base_uri": "https://localhost:8080/",
          "height": 406
        },
        "outputId": "bcf58d0a-a743-486d-f231-6cd0971357c1"
      },
      "source": [
        "fig, axes= plt.subplots(1,2,figsize=(12, 6) )\n",
        "sns.countplot(x ='gender', data = merged_df, hue = 'product_line', ax = axes[0])\n",
        "sns.countplot(x ='wealth_segment', data = merged_df, hue = 'brand', ax = axes[1])\n",
        "# ax[0,1].plt.legend(loc = 'upper right')\n",
        "# plt.xticks(rotation = 45)"
      ],
      "execution_count": null,
      "outputs": [
        {
          "output_type": "execute_result",
          "data": {
            "text/plain": [
              "<matplotlib.axes._subplots.AxesSubplot at 0x7f4b7a636c50>"
            ]
          },
          "metadata": {
            "tags": []
          },
          "execution_count": 25
        },
        {
          "output_type": "display_data",
          "data": {
            "image/png": "[encoded data removed]",
            "text/plain": [
              "<Figure size 864x432 with 2 Axes>"
            ]
          },
          "metadata": {
            "tags": [],
            "needs_background": "light"
          }
        }
      ]
    },
    {
      "cell_type": "code",
      "metadata": {
        "id": "_SlKtXw1vUfO",
        "colab_type": "code",
        "colab": {}
      },
      "source": [
        "# sns.lineplot(x=\"transaction_date\", y= 'transaction_id', data=merged_df)\n",
        "# plt.xticks(rotation=15)\n",
        "# plt.title('transcations against transaction date')\n",
        "# plt.show()"
      ],
      "execution_count": null,
      "outputs": []
    },
    {
      "cell_type": "code",
      "metadata": {
        "id": "qBXPWsAc6UIU",
        "colab_type": "code",
        "colab": {
          "base_uri": "https://localhost:8080/",
          "height": 317
        },
        "outputId": "fb0acb50-c747-4bfc-fe50-a388268fa0b2"
      },
      "source": [
        "num_df = merged_df.select_dtypes(include = [int, float])\n",
        "num_df = pd.DataFrame(num_df, columns = ['property_valuation',\t'list_price',\t'standard_cost','past_3_years_bike_related_purchases','postcode','tenure','online_order','transaction_id',\t'product_id','Age','profit_margin','product_first_sold_date'])\n",
        "num_df.describe()"
      ],
      "execution_count": null,
      "outputs": [
        {
          "output_type": "execute_result",
          "data": {
            "text/html": [
              "<div>\n",
              "<style scoped>\n",
              "    .dataframe tbody tr th:only-of-type {\n",
              "        vertical-align: middle;\n",
              "    }\n",
              "\n",
              "    .dataframe tbody tr th {\n",
              "        vertical-align: top;\n",
              "    }\n",
              "\n",
              "    .dataframe thead th {\n",
              "        text-align: right;\n",
              "    }\n",
              "</style>\n",
              "<table border=\"1\" class=\"dataframe\">\n",
              "  <thead>\n",
              "    <tr style=\"text-align: right;\">\n",
              "      <th></th>\n",
              "      <th>property_valuation</th>\n",
              "      <th>list_price</th>\n",
              "      <th>standard_cost</th>\n",
              "      <th>past_3_years_bike_related_purchases</th>\n",
              "      <th>postcode</th>\n",
              "      <th>tenure</th>\n",
              "      <th>online_order</th>\n",
              "      <th>transaction_id</th>\n",
              "      <th>product_id</th>\n",
              "      <th>Age</th>\n",
              "      <th>profit_margin</th>\n",
              "      <th>product_first_sold_date</th>\n",
              "    </tr>\n",
              "  </thead>\n",
              "  <tbody>\n",
              "    <tr>\n",
              "      <th>count</th>\n",
              "      <td>11068.000000</td>\n",
              "      <td>11068.000000</td>\n",
              "      <td>11068.000000</td>\n",
              "      <td>11068.000000</td>\n",
              "      <td>11068.000000</td>\n",
              "      <td>11068.000000</td>\n",
              "      <td>11068.000000</td>\n",
              "      <td>11068.000000</td>\n",
              "      <td>11068.000000</td>\n",
              "      <td>11068.000000</td>\n",
              "      <td>11068.000000</td>\n",
              "      <td>11068.000000</td>\n",
              "    </tr>\n",
              "    <tr>\n",
              "      <th>mean</th>\n",
              "      <td>7.482562</td>\n",
              "      <td>1107.374108</td>\n",
              "      <td>557.615002</td>\n",
              "      <td>49.516082</td>\n",
              "      <td>2994.490694</td>\n",
              "      <td>10.116191</td>\n",
              "      <td>0.498193</td>\n",
              "      <td>9996.470365</td>\n",
              "      <td>46.023581</td>\n",
              "      <td>33.546350</td>\n",
              "      <td>549.759106</td>\n",
              "      <td>38176.990332</td>\n",
              "    </tr>\n",
              "    <tr>\n",
              "      <th>std</th>\n",
              "      <td>2.816512</td>\n",
              "      <td>582.158720</td>\n",
              "      <td>405.845577</td>\n",
              "      <td>28.585025</td>\n",
              "      <td>842.789165</td>\n",
              "      <td>5.967811</td>\n",
              "      <td>0.500019</td>\n",
              "      <td>5786.248362</td>\n",
              "      <td>30.604173</td>\n",
              "      <td>8.745951</td>\n",
              "      <td>491.912057</td>\n",
              "      <td>2893.420994</td>\n",
              "    </tr>\n",
              "    <tr>\n",
              "      <th>min</th>\n",
              "      <td>1.000000</td>\n",
              "      <td>12.010000</td>\n",
              "      <td>7.210000</td>\n",
              "      <td>0.000000</td>\n",
              "      <td>2000.000000</td>\n",
              "      <td>1.000000</td>\n",
              "      <td>0.000000</td>\n",
              "      <td>1.000000</td>\n",
              "      <td>0.000000</td>\n",
              "      <td>15.000000</td>\n",
              "      <td>4.800000</td>\n",
              "      <td>33259.000000</td>\n",
              "    </tr>\n",
              "    <tr>\n",
              "      <th>25%</th>\n",
              "      <td>6.000000</td>\n",
              "      <td>575.270000</td>\n",
              "      <td>215.140000</td>\n",
              "      <td>25.000000</td>\n",
              "      <td>2211.000000</td>\n",
              "      <td>5.000000</td>\n",
              "      <td>0.000000</td>\n",
              "      <td>4962.500000</td>\n",
              "      <td>18.000000</td>\n",
              "      <td>26.000000</td>\n",
              "      <td>133.780000</td>\n",
              "      <td>35560.000000</td>\n",
              "    </tr>\n",
              "    <tr>\n",
              "      <th>50%</th>\n",
              "      <td>8.000000</td>\n",
              "      <td>1163.890000</td>\n",
              "      <td>507.580000</td>\n",
              "      <td>49.000000</td>\n",
              "      <td>2770.000000</td>\n",
              "      <td>10.000000</td>\n",
              "      <td>0.000000</td>\n",
              "      <td>9969.000000</td>\n",
              "      <td>45.000000</td>\n",
              "      <td>36.000000</td>\n",
              "      <td>445.210000</td>\n",
              "      <td>38206.000000</td>\n",
              "    </tr>\n",
              "    <tr>\n",
              "      <th>75%</th>\n",
              "      <td>10.000000</td>\n",
              "      <td>1635.300000</td>\n",
              "      <td>795.100000</td>\n",
              "      <td>74.000000</td>\n",
              "      <td>3677.000000</td>\n",
              "      <td>15.000000</td>\n",
              "      <td>1.000000</td>\n",
              "      <td>15026.750000</td>\n",
              "      <td>73.000000</td>\n",
              "      <td>41.000000</td>\n",
              "      <td>830.240000</td>\n",
              "      <td>40779.000000</td>\n",
              "    </tr>\n",
              "    <tr>\n",
              "      <th>max</th>\n",
              "      <td>12.000000</td>\n",
              "      <td>2091.470000</td>\n",
              "      <td>1759.850000</td>\n",
              "      <td>99.000000</td>\n",
              "      <td>4883.000000</td>\n",
              "      <td>22.000000</td>\n",
              "      <td>1.000000</td>\n",
              "      <td>19999.000000</td>\n",
              "      <td>100.000000</td>\n",
              "      <td>47.000000</td>\n",
              "      <td>1702.550000</td>\n",
              "      <td>42710.000000</td>\n",
              "    </tr>\n",
              "  </tbody>\n",
              "</table>\n",
              "</div>"
            ],
            "text/plain": [
              "       property_valuation    list_price  ...  profit_margin  product_first_sold_date\n",
              "count        11068.000000  11068.000000  ...   11068.000000             11068.000000\n",
              "mean             7.482562   1107.374108  ...     549.759106             38176.990332\n",
              "std              2.816512    582.158720  ...     491.912057              2893.420994\n",
              "min              1.000000     12.010000  ...       4.800000             33259.000000\n",
              "25%              6.000000    575.270000  ...     133.780000             35560.000000\n",
              "50%              8.000000   1163.890000  ...     445.210000             38206.000000\n",
              "75%             10.000000   1635.300000  ...     830.240000             40779.000000\n",
              "max             12.000000   2091.470000  ...    1702.550000             42710.000000\n",
              "\n",
              "[8 rows x 12 columns]"
            ]
          },
          "metadata": {
            "tags": []
          },
          "execution_count": 27
        }
      ]
    },
    {
      "cell_type": "code",
      "metadata": {
        "id": "tQAEyhLnk5qB",
        "colab_type": "code",
        "colab": {
          "base_uri": "https://localhost:8080/",
          "height": 227
        },
        "outputId": "f3b6a94d-a317-41f7-9e80-3b4f32a6784d"
      },
      "source": [
        "cat_df = merged_df.select_dtypes(include = 'object')\n",
        "cat_df.describe()"
      ],
      "execution_count": null,
      "outputs": [
        {
          "output_type": "execute_result",
          "data": {
            "text/html": [
              "<div>\n",
              "<style scoped>\n",
              "    .dataframe tbody tr th:only-of-type {\n",
              "        vertical-align: middle;\n",
              "    }\n",
              "\n",
              "    .dataframe tbody tr th {\n",
              "        vertical-align: top;\n",
              "    }\n",
              "\n",
              "    .dataframe thead th {\n",
              "        text-align: right;\n",
              "    }\n",
              "</style>\n",
              "<table border=\"1\" class=\"dataframe\">\n",
              "  <thead>\n",
              "    <tr style=\"text-align: right;\">\n",
              "      <th></th>\n",
              "      <th>customer_id</th>\n",
              "      <th>address</th>\n",
              "      <th>state</th>\n",
              "      <th>country</th>\n",
              "      <th>order_status</th>\n",
              "      <th>brand</th>\n",
              "      <th>product_line</th>\n",
              "      <th>product_class</th>\n",
              "      <th>product_size</th>\n",
              "      <th>first_name</th>\n",
              "      <th>last_name</th>\n",
              "      <th>gender</th>\n",
              "      <th>job_industry_category</th>\n",
              "      <th>wealth_segment</th>\n",
              "      <th>deceased_indicator</th>\n",
              "      <th>owns_car</th>\n",
              "      <th>month</th>\n",
              "    </tr>\n",
              "  </thead>\n",
              "  <tbody>\n",
              "    <tr>\n",
              "      <th>count</th>\n",
              "      <td>10997</td>\n",
              "      <td>10997</td>\n",
              "      <td>10997</td>\n",
              "      <td>10997</td>\n",
              "      <td>10997</td>\n",
              "      <td>10997</td>\n",
              "      <td>10997</td>\n",
              "      <td>10997</td>\n",
              "      <td>10997</td>\n",
              "      <td>10997</td>\n",
              "      <td>10997</td>\n",
              "      <td>10997</td>\n",
              "      <td>10997</td>\n",
              "      <td>10997</td>\n",
              "      <td>10997</td>\n",
              "      <td>10997</td>\n",
              "      <td>10997</td>\n",
              "    </tr>\n",
              "    <tr>\n",
              "      <th>unique</th>\n",
              "      <td>1982</td>\n",
              "      <td>1982</td>\n",
              "      <td>3</td>\n",
              "      <td>1</td>\n",
              "      <td>2</td>\n",
              "      <td>6</td>\n",
              "      <td>4</td>\n",
              "      <td>3</td>\n",
              "      <td>3</td>\n",
              "      <td>1752</td>\n",
              "      <td>1942</td>\n",
              "      <td>2</td>\n",
              "      <td>9</td>\n",
              "      <td>3</td>\n",
              "      <td>2</td>\n",
              "      <td>2</td>\n",
              "      <td>12</td>\n",
              "    </tr>\n",
              "    <tr>\n",
              "      <th>top</th>\n",
              "      <td>1068</td>\n",
              "      <td>8142 Tomscot Drive</td>\n",
              "      <td>New South Wales</td>\n",
              "      <td>Australia</td>\n",
              "      <td>Approved</td>\n",
              "      <td>Solex</td>\n",
              "      <td>Standard</td>\n",
              "      <td>medium</td>\n",
              "      <td>medium</td>\n",
              "      <td>Tobe</td>\n",
              "      <td>Elgey</td>\n",
              "      <td>Female</td>\n",
              "      <td>Financial Services</td>\n",
              "      <td>Mass Customer</td>\n",
              "      <td>N</td>\n",
              "      <td>Yes</td>\n",
              "      <td>Oct</td>\n",
              "    </tr>\n",
              "    <tr>\n",
              "      <th>freq</th>\n",
              "      <td>14</td>\n",
              "      <td>14</td>\n",
              "      <td>5938</td>\n",
              "      <td>10997</td>\n",
              "      <td>10895</td>\n",
              "      <td>2389</td>\n",
              "      <td>7866</td>\n",
              "      <td>7665</td>\n",
              "      <td>7209</td>\n",
              "      <td>31</td>\n",
              "      <td>18</td>\n",
              "      <td>5643</td>\n",
              "      <td>2662</td>\n",
              "      <td>5493</td>\n",
              "      <td>10989</td>\n",
              "      <td>5540</td>\n",
              "      <td>989</td>\n",
              "    </tr>\n",
              "  </tbody>\n",
              "</table>\n",
              "</div>"
            ],
            "text/plain": [
              "        customer_id             address  ... owns_car  month\n",
              "count         10997               10997  ...    10997  10997\n",
              "unique         1982                1982  ...        2     12\n",
              "top            1068  8142 Tomscot Drive  ...      Yes    Oct\n",
              "freq             14                  14  ...     5540    989\n",
              "\n",
              "[4 rows x 17 columns]"
            ]
          },
          "metadata": {
            "tags": []
          },
          "execution_count": 29
        }
      ]
    },
    {
      "cell_type": "markdown",
      "metadata": {
        "id": "62vHZ-iNe2TJ",
        "colab_type": "text"
      },
      "source": [
        "## Multivaliarte Analysis\n",
        "### correlation analysis"
      ]
    },
    {
      "cell_type": "code",
      "metadata": {
        "id": "OiGAIdGG0Lnw",
        "colab_type": "code",
        "colab": {
          "base_uri": "https://localhost:8080/",
          "height": 681
        },
        "outputId": "6acd6bd6-98c3-439d-d5d2-e37b50fcf618"
      },
      "source": [
        "num_cor  = num_df.corr()\n",
        "plt.figure(figsize =(12,8))\n",
        "sns.heatmap(num_cor, annot= True)"
      ],
      "execution_count": null,
      "outputs": [
        {
          "output_type": "execute_result",
          "data": {
            "text/plain": [
              "<matplotlib.axes._subplots.AxesSubplot at 0x7f320ada7f28>"
            ]
          },
          "metadata": {
            "tags": []
          },
          "execution_count": 30
        },
        {
          "output_type": "display_data",
          "data": {
            "image/png": "[encoded data removed]",
            "text/plain": [
              "<Figure size 864x576 with 2 Axes>"
            ]
          },
          "metadata": {
            "tags": [],
            "needs_background": "light"
          }
        }
      ]
    },
    {
      "cell_type": "code",
      "metadata": {
        "id": "ws7rTvI9JS8q",
        "colab_type": "code",
        "colab": {}
      },
      "source": [
        "from sklearn.preprocessing import LabelEncoder\n",
        "le = LabelEncoder()\n",
        "cat_encod = cat_df[['customer_id', 'address', 'state', 'country', 'order_status', 'brand',\n",
        "       'product_line', 'product_class', 'product_size', 'first_name',\n",
        "       'last_name', 'gender', 'job_industry_category', 'wealth_segment',\n",
        "       'deceased_indicator', 'owns_car', 'month']].apply(le.fit_transform)"
      ],
      "execution_count": null,
      "outputs": []
    },
    {
      "cell_type": "code",
      "metadata": {
        "id": "cBKWjIqeaQyO",
        "colab_type": "code",
        "colab": {
          "base_uri": "https://localhost:8080/",
          "height": 197
        },
        "outputId": "276e672c-15b5-4aa0-d333-cd0e778c7077"
      },
      "source": [
        "cat_cor = cat_encod.corr()\n",
        "plt.figure(figsize =(12,8))\n",
        "sns.heatmap(cat_cor, annot = True)"
      ],
      "execution_count": null,
      "outputs": [
        {
          "output_type": "error",
          "ename": "NameError",
          "evalue": "ignored",
          "traceback": [
            "\u001b[0;31m---------------------------------------------------------------------------\u001b[0m",
            "\u001b[0;31mNameError\u001b[0m                                 Traceback (most recent call last)",
            "\u001b[0;32m<ipython-input-28-25c4f05ce63a>\u001b[0m in \u001b[0;36m<module>\u001b[0;34m()\u001b[0m\n\u001b[0;32m----> 1\u001b[0;31m \u001b[0mcat_cor\u001b[0m \u001b[0;34m=\u001b[0m \u001b[0mcat_encod\u001b[0m\u001b[0;34m.\u001b[0m\u001b[0mcorr\u001b[0m\u001b[0;34m(\u001b[0m\u001b[0;34m)\u001b[0m\u001b[0;34m\u001b[0m\u001b[0;34m\u001b[0m\u001b[0m\n\u001b[0m\u001b[1;32m      2\u001b[0m \u001b[0mplt\u001b[0m\u001b[0;34m.\u001b[0m\u001b[0mfigure\u001b[0m\u001b[0;34m(\u001b[0m\u001b[0mfigsize\u001b[0m \u001b[0;34m=\u001b[0m\u001b[0;34m(\u001b[0m\u001b[0;36m12\u001b[0m\u001b[0;34m,\u001b[0m\u001b[0;36m8\u001b[0m\u001b[0;34m)\u001b[0m\u001b[0;34m)\u001b[0m\u001b[0;34m\u001b[0m\u001b[0;34m\u001b[0m\u001b[0m\n\u001b[1;32m      3\u001b[0m \u001b[0msns\u001b[0m\u001b[0;34m.\u001b[0m\u001b[0mheatmap\u001b[0m\u001b[0;34m(\u001b[0m\u001b[0mcat_cor\u001b[0m\u001b[0;34m,\u001b[0m \u001b[0mannot\u001b[0m \u001b[0;34m=\u001b[0m \u001b[0;32mTrue\u001b[0m\u001b[0;34m)\u001b[0m\u001b[0;34m\u001b[0m\u001b[0;34m\u001b[0m\u001b[0m\n",
            "\u001b[0;31mNameError\u001b[0m: name 'cat_encod' is not defined"
          ]
        }
      ]
    },
    {
      "cell_type": "code",
      "metadata": {
        "id": "3Cg4Ig9YcDAW",
        "colab_type": "code",
        "colab": {
          "base_uri": "https://localhost:8080/",
          "height": 214
        },
        "outputId": "074988b5-a9dc-4753-ee02-4401c7087c94"
      },
      "source": [
        "comb_cor = pd.concat([num_df, cat_encod], axis =1)\n",
        "comb_cor = comb_cor.corr()\n",
        "plt.figure(figsize =(13,9))\n",
        "sns.heatmap(comb_cor, vmin = 0.25,annot =True)"
      ],
      "execution_count": null,
      "outputs": [
        {
          "output_type": "error",
          "ename": "NameError",
          "evalue": "ignored",
          "traceback": [
            "\u001b[0;31m---------------------------------------------------------------------------\u001b[0m",
            "\u001b[0;31mNameError\u001b[0m                                 Traceback (most recent call last)",
            "\u001b[0;32m<ipython-input-29-229aa1d803ba>\u001b[0m in \u001b[0;36m<module>\u001b[0;34m()\u001b[0m\n\u001b[0;32m----> 1\u001b[0;31m \u001b[0mcomb_cor\u001b[0m \u001b[0;34m=\u001b[0m \u001b[0mpd\u001b[0m\u001b[0;34m.\u001b[0m\u001b[0mconcat\u001b[0m\u001b[0;34m(\u001b[0m\u001b[0;34m[\u001b[0m\u001b[0mnum_df\u001b[0m\u001b[0;34m,\u001b[0m \u001b[0mcat_encod\u001b[0m\u001b[0;34m]\u001b[0m\u001b[0;34m,\u001b[0m \u001b[0maxis\u001b[0m \u001b[0;34m=\u001b[0m\u001b[0;36m1\u001b[0m\u001b[0;34m)\u001b[0m\u001b[0;34m\u001b[0m\u001b[0;34m\u001b[0m\u001b[0m\n\u001b[0m\u001b[1;32m      2\u001b[0m \u001b[0mcomb_cor\u001b[0m \u001b[0;34m=\u001b[0m \u001b[0mcomb_cor\u001b[0m\u001b[0;34m.\u001b[0m\u001b[0mcorr\u001b[0m\u001b[0;34m(\u001b[0m\u001b[0;34m)\u001b[0m\u001b[0;34m\u001b[0m\u001b[0;34m\u001b[0m\u001b[0m\n\u001b[1;32m      3\u001b[0m \u001b[0mplt\u001b[0m\u001b[0;34m.\u001b[0m\u001b[0mfigure\u001b[0m\u001b[0;34m(\u001b[0m\u001b[0mfigsize\u001b[0m \u001b[0;34m=\u001b[0m\u001b[0;34m(\u001b[0m\u001b[0;36m13\u001b[0m\u001b[0;34m,\u001b[0m\u001b[0;36m9\u001b[0m\u001b[0;34m)\u001b[0m\u001b[0;34m)\u001b[0m\u001b[0;34m\u001b[0m\u001b[0;34m\u001b[0m\u001b[0m\n\u001b[1;32m      4\u001b[0m \u001b[0msns\u001b[0m\u001b[0;34m.\u001b[0m\u001b[0mheatmap\u001b[0m\u001b[0;34m(\u001b[0m\u001b[0mcomb_cor\u001b[0m\u001b[0;34m,\u001b[0m \u001b[0mvmin\u001b[0m \u001b[0;34m=\u001b[0m \u001b[0;36m0.25\u001b[0m\u001b[0;34m,\u001b[0m\u001b[0mannot\u001b[0m \u001b[0;34m=\u001b[0m\u001b[0;32mTrue\u001b[0m\u001b[0;34m)\u001b[0m\u001b[0;34m\u001b[0m\u001b[0;34m\u001b[0m\u001b[0m\n",
            "\u001b[0;31mNameError\u001b[0m: name 'cat_encod' is not defined"
          ]
        }
      ]
    },
    {
      "cell_type": "markdown",
      "metadata": {
        "id": "f_BE7KR6cBzA",
        "colab_type": "text"
      },
      "source": [
        "##Hypothesis"
      ]
    },
    {
      "cell_type": "markdown",
      "metadata": {
        "id": "5Bjc2QEfccX1",
        "colab_type": "text"
      },
      "source": [
        "**null hypothesis:** customers aged between 30 - 40 are profitable = other age groups\n",
        "\n",
        "**alternate hypothesis:** customers aged between 30 -40 > profitable other age groups"
      ]
    },
    {
      "cell_type": "markdown",
      "metadata": {
        "id": "IRaXa_zidgm3",
        "colab_type": "text"
      },
      "source": [
        "### hypothesis parameters\n",
        "\n",
        "* one-tail test\n",
        "* sample_1.mean = 556.86\n",
        "* sample_2.mean = 546.31\n",
        "* confidence level = 95%\n",
        "* sample_size_1 (n) = 451\n",
        "* sample_size_2 (n) = 649"
      ]
    },
    {
      "cell_type": "code",
      "metadata": {
        "id": "0WEZX8PQ26wk",
        "colab_type": "code",
        "colab": {
          "base_uri": "https://localhost:8080/",
          "height": 51
        },
        "outputId": "7425a3cb-a1ca-4270-a2ef-41f0933a94e9"
      },
      "source": [
        "#getting sample of Ages between 30-35\n",
        "sample_30_35 = num_df[num_df.Age >= 30]\n",
        "sample_1 = sample_30_35[sample_30_35.Age <= 40]\n",
        "# sample_1.sample(152).profit_margin.mean()\n",
        "n_1 = round(len(sample_1)*.1)\n",
        "s_1 = sample_1.sample(n_1).profit_margin.std()\n",
        "p_margin_mean_1 = sample_1.profit_margin.mean()\n",
        "print('sample size is {}, profit_margin sample mean : {}.'.format(n_1, p_margin_mean_1 ))\n",
        "print('standard deviation: {}'.format(round(s_1, 2)))"
      ],
      "execution_count": null,
      "outputs": [
        {
          "output_type": "stream",
          "text": [
            "sample size is 450, profit_margin sample mean : 540.9993179293476.\n",
            "standard deviation: 498.34\n"
          ],
          "name": "stdout"
        }
      ]
    },
    {
      "cell_type": "code",
      "metadata": {
        "id": "40XwqlqyJi2j",
        "colab_type": "code",
        "colab": {
          "base_uri": "https://localhost:8080/",
          "height": 51
        },
        "outputId": "9c875286-37b3-4ac2-97e9-3ebe44d05d59"
      },
      "source": [
        "#getting samples for ages less than 30 and more than 35 years\n",
        "sample_2= pd.concat([num_df[num_df.Age >40], num_df[num_df.Age <30]], axis = 0)\n",
        "n_2 = round(len(sample_2)*.1)\n",
        "s_2 = sample_2.sample(n_2).profit_margin.std()\n",
        "p_margin_mean_2 = sample_2.profit_margin.mean()           \n",
        "print('sample size is {}, profit_margin sample mean : {}.'.format(n_2, p_margin_mean_2))\n",
        "print('standard deviation: {}'.format(round(s_2, 2)))"
      ],
      "execution_count": null,
      "outputs": [
        {
          "output_type": "stream",
          "text": [
            "sample size is 657, profit_margin sample mean : 555.7630363940842.\n",
            "standard deviation: 500.67\n"
          ],
          "name": "stdout"
        }
      ]
    },
    {
      "cell_type": "code",
      "metadata": {
        "id": "Hhz16dh6MowL",
        "colab_type": "code",
        "colab": {}
      },
      "source": [
        "import math\n",
        "import scipy.stats as stats\n",
        "from scipy.stats import norm\n",
        "def two_sample_t_test(n):\n",
        "  diff_mean = p_margin_mean_1 - p_margin_mean_2-0\n",
        "  df = math.sqrt((s_1**2+s_2**2)/(n_1+n_2-2))\n",
        "  t_score = diff_mean/df\n",
        "  prob = stats.t.cdf(t_score, df=df)\n",
        "  alpha = n\n",
        "  if prob < n:\n",
        "    print('reject the null hypothesis')\n",
        "  else:\n",
        "    print('we fail to reject the null hypothesis')\n",
        "  return t_score ,df, prob"
      ],
      "execution_count": null,
      "outputs": []
    },
    {
      "cell_type": "code",
      "metadata": {
        "id": "If5HXcpskepC",
        "colab_type": "code",
        "colab": {
          "base_uri": "https://localhost:8080/",
          "height": 51
        },
        "outputId": "a605a97f-e73a-444b-bda1-c0a743e9809d"
      },
      "source": [
        "two_sample_t_test(0.05)"
      ],
      "execution_count": null,
      "outputs": [
        {
          "output_type": "stream",
          "text": [
            "we fail to reject the null hypothesis\n"
          ],
          "name": "stdout"
        },
        {
          "output_type": "execute_result",
          "data": {
            "text/plain": [
              "(-0.694742161428467, 21.250644173344472, 0.2473717820384435)"
            ]
          },
          "metadata": {
            "tags": []
          },
          "execution_count": 35
        }
      ]
    },
    {
      "cell_type": "markdown",
      "metadata": {
        "id": "NQnXKkrcu0r4",
        "colab_type": "text"
      },
      "source": [
        "The above results suggest that there is no financial advantage in selling to customers of ages of 30- 40 years old"
      ]
    },
    {
      "cell_type": "code",
      "metadata": {
        "id": "OZCRVjdwlL_t",
        "colab_type": "code",
        "colab": {}
      },
      "source": [
        "num_df = merged_df[['property_valuation',\t'list_price',\t'standard_cost','past_3_years_bike_related_purchases','tenure','Age','profit_margin']]\n",
        "new_df = pd.DataFrame(num_df, columns = ['property_valuation',\t'list_price',\t'standard_cost','past_3_years_bike_related_purchases','tenure','Age','profit_margin'])"
      ],
      "execution_count": null,
      "outputs": []
    },
    {
      "cell_type": "markdown",
      "metadata": {
        "id": "UW8XNDJVzUNj",
        "colab_type": "text"
      },
      "source": [
        "#modeling"
      ]
    },
    {
      "cell_type": "code",
      "metadata": {
        "id": "1vEm7DSCzWI3",
        "colab_type": "code",
        "colab": {}
      },
      "source": [
        "from sklearn.cluster import KMeans, AffinityPropagation\n",
        "import warnings\n",
        "from sklearn.preprocessing import StandardScaler"
      ],
      "execution_count": null,
      "outputs": []
    },
    {
      "cell_type": "code",
      "metadata": {
        "id": "Tt2bn1wK_6Gx",
        "colab_type": "code",
        "colab": {
          "base_uri": "https://localhost:8080/",
          "height": 317
        },
        "outputId": "cda457ed-e8c3-43ed-d898-58e0d3b40db3"
      },
      "source": [
        "new_df.dropna(inplace= True)\n",
        "new_df.describe()"
      ],
      "execution_count": null,
      "outputs": [
        {
          "output_type": "execute_result",
          "data": {
            "text/html": [
              "<div>\n",
              "<style scoped>\n",
              "    .dataframe tbody tr th:only-of-type {\n",
              "        vertical-align: middle;\n",
              "    }\n",
              "\n",
              "    .dataframe tbody tr th {\n",
              "        vertical-align: top;\n",
              "    }\n",
              "\n",
              "    .dataframe thead th {\n",
              "        text-align: right;\n",
              "    }\n",
              "</style>\n",
              "<table border=\"1\" class=\"dataframe\">\n",
              "  <thead>\n",
              "    <tr style=\"text-align: right;\">\n",
              "      <th></th>\n",
              "      <th>property_valuation</th>\n",
              "      <th>list_price</th>\n",
              "      <th>standard_cost</th>\n",
              "      <th>past_3_years_bike_related_purchases</th>\n",
              "      <th>tenure</th>\n",
              "      <th>Age</th>\n",
              "      <th>profit_margin</th>\n",
              "    </tr>\n",
              "  </thead>\n",
              "  <tbody>\n",
              "    <tr>\n",
              "      <th>count</th>\n",
              "      <td>11068.000000</td>\n",
              "      <td>11068.000000</td>\n",
              "      <td>11068.000000</td>\n",
              "      <td>11068.000000</td>\n",
              "      <td>11068.000000</td>\n",
              "      <td>11068.000000</td>\n",
              "      <td>11068.000000</td>\n",
              "    </tr>\n",
              "    <tr>\n",
              "      <th>mean</th>\n",
              "      <td>7.482562</td>\n",
              "      <td>1107.374108</td>\n",
              "      <td>557.615002</td>\n",
              "      <td>49.516082</td>\n",
              "      <td>10.116191</td>\n",
              "      <td>33.546350</td>\n",
              "      <td>549.759106</td>\n",
              "    </tr>\n",
              "    <tr>\n",
              "      <th>std</th>\n",
              "      <td>2.816512</td>\n",
              "      <td>582.158720</td>\n",
              "      <td>405.845577</td>\n",
              "      <td>28.585025</td>\n",
              "      <td>5.967811</td>\n",
              "      <td>8.745951</td>\n",
              "      <td>491.912057</td>\n",
              "    </tr>\n",
              "    <tr>\n",
              "      <th>min</th>\n",
              "      <td>1.000000</td>\n",
              "      <td>12.010000</td>\n",
              "      <td>7.210000</td>\n",
              "      <td>0.000000</td>\n",
              "      <td>1.000000</td>\n",
              "      <td>15.000000</td>\n",
              "      <td>4.800000</td>\n",
              "    </tr>\n",
              "    <tr>\n",
              "      <th>25%</th>\n",
              "      <td>6.000000</td>\n",
              "      <td>575.270000</td>\n",
              "      <td>215.140000</td>\n",
              "      <td>25.000000</td>\n",
              "      <td>5.000000</td>\n",
              "      <td>26.000000</td>\n",
              "      <td>133.780000</td>\n",
              "    </tr>\n",
              "    <tr>\n",
              "      <th>50%</th>\n",
              "      <td>8.000000</td>\n",
              "      <td>1163.890000</td>\n",
              "      <td>507.580000</td>\n",
              "      <td>49.000000</td>\n",
              "      <td>10.000000</td>\n",
              "      <td>36.000000</td>\n",
              "      <td>445.210000</td>\n",
              "    </tr>\n",
              "    <tr>\n",
              "      <th>75%</th>\n",
              "      <td>10.000000</td>\n",
              "      <td>1635.300000</td>\n",
              "      <td>795.100000</td>\n",
              "      <td>74.000000</td>\n",
              "      <td>15.000000</td>\n",
              "      <td>41.000000</td>\n",
              "      <td>830.240000</td>\n",
              "    </tr>\n",
              "    <tr>\n",
              "      <th>max</th>\n",
              "      <td>12.000000</td>\n",
              "      <td>2091.470000</td>\n",
              "      <td>1759.850000</td>\n",
              "      <td>99.000000</td>\n",
              "      <td>22.000000</td>\n",
              "      <td>47.000000</td>\n",
              "      <td>1702.550000</td>\n",
              "    </tr>\n",
              "  </tbody>\n",
              "</table>\n",
              "</div>"
            ],
            "text/plain": [
              "       property_valuation    list_price  ...           Age  profit_margin\n",
              "count        11068.000000  11068.000000  ...  11068.000000   11068.000000\n",
              "mean             7.482562   1107.374108  ...     33.546350     549.759106\n",
              "std              2.816512    582.158720  ...      8.745951     491.912057\n",
              "min              1.000000     12.010000  ...     15.000000       4.800000\n",
              "25%              6.000000    575.270000  ...     26.000000     133.780000\n",
              "50%              8.000000   1163.890000  ...     36.000000     445.210000\n",
              "75%             10.000000   1635.300000  ...     41.000000     830.240000\n",
              "max             12.000000   2091.470000  ...     47.000000    1702.550000\n",
              "\n",
              "[8 rows x 7 columns]"
            ]
          },
          "metadata": {
            "tags": []
          },
          "execution_count": 38
        }
      ]
    },
    {
      "cell_type": "code",
      "metadata": {
        "id": "0PE9AwZJzhvg",
        "colab_type": "code",
        "colab": {}
      },
      "source": [
        "sc = StandardScaler()\n",
        "num_scaled= sc.fit_transform(new_df)"
      ],
      "execution_count": null,
      "outputs": []
    },
    {
      "cell_type": "code",
      "metadata": {
        "id": "L3w7vwTPGL0T",
        "colab_type": "code",
        "colab": {}
      },
      "source": [
        "def elebow_curve(num_df):\n",
        "  cluster_range = list(np.arange(2,15))\n",
        "  inertias = []\n",
        "  for n in cluster_range:\n",
        "    k = KMeans(n_clusters = n, random_state = 0).fit(num_df)\n",
        "    inertias.append(k.inertia_)\n",
        "  plt.plot(cluster_range, inertias, marker = 'o')\n",
        "  plt.title('cluster vs inertia')\n",
        "  plt.show()"
      ],
      "execution_count": null,
      "outputs": []
    },
    {
      "cell_type": "code",
      "metadata": {
        "id": "6CW72PwqH34c",
        "colab_type": "code",
        "colab": {
          "base_uri": "https://localhost:8080/",
          "height": 281
        },
        "outputId": "46eb6355-692d-4f7b-b512-041ef30f86e6"
      },
      "source": [
        "elebow_curve(num_scaled)"
      ],
      "execution_count": null,
      "outputs": [
        {
          "output_type": "display_data",
          "data": {
            "image/png": "[encoded data removed]",
            "text/plain": [
              "<Figure size 432x288 with 1 Axes>"
            ]
          },
          "metadata": {
            "tags": [],
            "needs_background": "light"
          }
        }
      ]
    },
    {
      "cell_type": "code",
      "metadata": {
        "id": "Oh7BZ-z8Bl__",
        "colab_type": "code",
        "colab": {}
      },
      "source": [
        "#using silhoutte score\n",
        "from sklearn.metrics import silhouette_samples, silhouette_score"
      ],
      "execution_count": null,
      "outputs": []
    },
    {
      "cell_type": "code",
      "metadata": {
        "id": "oXUJv7qb9GVS",
        "colab_type": "code",
        "colab": {
          "base_uri": "https://localhost:8080/",
          "height": 430
        },
        "outputId": "abd53936-53fa-493a-f638-64a05b0dea42"
      },
      "source": [
        "cluster_range = np.arange(2,15)\n",
        "\n",
        "results = []\n",
        "for n in  cluster_range:\n",
        "  clusterer = KMeans(n_clusters = n , random_state = 10)\n",
        "  cluster_lables = clusterer.fit_predict(num_df)\n",
        "  silhouette_avg = silhouette_score(num_df, cluster_lables)\n",
        "  results.append([n, silhouette_avg])\n",
        "result = pd.DataFrame(results, columns=[\"n_clusters\",\"silhouette_score\"])\n",
        "pivot_km = pd.pivot_table(result, index=\"n_clusters\",values=\"silhouette_score\")\n",
        "plt.figure(figsize=(15,6))\n",
        "sns.heatmap(pivot_km, annot=True, linewidths=.5, fmt='.3f', cmap=sns.cm.rocket_r)\n",
        "plt.tight_layout()"
      ],
      "execution_count": null,
      "outputs": [
        {
          "output_type": "display_data",
          "data": {
            "image/png": "[encoded data removed]",
            "text/plain": [
              "<Figure size 1080x432 with 2 Axes>"
            ]
          },
          "metadata": {
            "tags": [],
            "needs_background": "light"
          }
        }
      ]
    },
    {
      "cell_type": "code",
      "metadata": {
        "id": "ayguY6QHA-df",
        "colab_type": "code",
        "colab": {
          "base_uri": "https://localhost:8080/",
          "height": 379
        },
        "outputId": "6678d26e-d201-4f1c-af26-b8ea4892acf3"
      },
      "source": [
        "kmeans = KMeans(n_clusters = 9).fit(num_df)\n",
        "labels = kmeans.predict(num_df)\n",
        "# cluster =pd.DataFrame(labels, columns = ['clusters'])\n",
        "new_df['cluster'] = labels\n",
        "# num_df.head()\n",
        "new_df.groupby(['cluster']).mean()"
      ],
      "execution_count": null,
      "outputs": [
        {
          "output_type": "execute_result",
          "data": {
            "text/html": [
              "<div>\n",
              "<style scoped>\n",
              "    .dataframe tbody tr th:only-of-type {\n",
              "        vertical-align: middle;\n",
              "    }\n",
              "\n",
              "    .dataframe tbody tr th {\n",
              "        vertical-align: top;\n",
              "    }\n",
              "\n",
              "    .dataframe thead th {\n",
              "        text-align: right;\n",
              "    }\n",
              "</style>\n",
              "<table border=\"1\" class=\"dataframe\">\n",
              "  <thead>\n",
              "    <tr style=\"text-align: right;\">\n",
              "      <th></th>\n",
              "      <th>property_valuation</th>\n",
              "      <th>list_price</th>\n",
              "      <th>standard_cost</th>\n",
              "      <th>past_3_years_bike_related_purchases</th>\n",
              "      <th>tenure</th>\n",
              "      <th>Age</th>\n",
              "      <th>profit_margin</th>\n",
              "    </tr>\n",
              "    <tr>\n",
              "      <th>cluster</th>\n",
              "      <th></th>\n",
              "      <th></th>\n",
              "      <th></th>\n",
              "      <th></th>\n",
              "      <th></th>\n",
              "      <th></th>\n",
              "      <th></th>\n",
              "    </tr>\n",
              "  </thead>\n",
              "  <tbody>\n",
              "    <tr>\n",
              "      <th>0</th>\n",
              "      <td>7.485697</td>\n",
              "      <td>210.269631</td>\n",
              "      <td>135.561007</td>\n",
              "      <td>49.818236</td>\n",
              "      <td>10.224076</td>\n",
              "      <td>33.679976</td>\n",
              "      <td>74.708623</td>\n",
              "    </tr>\n",
              "    <tr>\n",
              "      <th>1</th>\n",
              "      <td>7.547101</td>\n",
              "      <td>1736.847993</td>\n",
              "      <td>862.550725</td>\n",
              "      <td>50.089130</td>\n",
              "      <td>10.260870</td>\n",
              "      <td>33.473188</td>\n",
              "      <td>874.297268</td>\n",
              "    </tr>\n",
              "    <tr>\n",
              "      <th>2</th>\n",
              "      <td>7.498278</td>\n",
              "      <td>1300.318450</td>\n",
              "      <td>1079.474834</td>\n",
              "      <td>50.176808</td>\n",
              "      <td>9.905855</td>\n",
              "      <td>33.708381</td>\n",
              "      <td>220.843617</td>\n",
              "    </tr>\n",
              "    <tr>\n",
              "      <th>3</th>\n",
              "      <td>7.489610</td>\n",
              "      <td>1155.537513</td>\n",
              "      <td>708.847591</td>\n",
              "      <td>50.272078</td>\n",
              "      <td>10.191558</td>\n",
              "      <td>33.575974</td>\n",
              "      <td>446.689922</td>\n",
              "    </tr>\n",
              "    <tr>\n",
              "      <th>4</th>\n",
              "      <td>7.481645</td>\n",
              "      <td>1353.115198</td>\n",
              "      <td>133.809530</td>\n",
              "      <td>48.367107</td>\n",
              "      <td>9.775330</td>\n",
              "      <td>33.531571</td>\n",
              "      <td>1219.305668</td>\n",
              "    </tr>\n",
              "    <tr>\n",
              "      <th>5</th>\n",
              "      <td>7.415825</td>\n",
              "      <td>1909.229318</td>\n",
              "      <td>377.126818</td>\n",
              "      <td>49.577441</td>\n",
              "      <td>10.219697</td>\n",
              "      <td>33.531987</td>\n",
              "      <td>1532.102500</td>\n",
              "    </tr>\n",
              "    <tr>\n",
              "      <th>6</th>\n",
              "      <td>7.489923</td>\n",
              "      <td>602.559280</td>\n",
              "      <td>445.104894</td>\n",
              "      <td>48.718810</td>\n",
              "      <td>9.918426</td>\n",
              "      <td>33.353647</td>\n",
              "      <td>157.454386</td>\n",
              "    </tr>\n",
              "    <tr>\n",
              "      <th>7</th>\n",
              "      <td>7.509434</td>\n",
              "      <td>1777.268836</td>\n",
              "      <td>1581.768302</td>\n",
              "      <td>47.163522</td>\n",
              "      <td>10.191824</td>\n",
              "      <td>33.498428</td>\n",
              "      <td>195.500535</td>\n",
              "    </tr>\n",
              "    <tr>\n",
              "      <th>8</th>\n",
              "      <td>7.411881</td>\n",
              "      <td>1008.828139</td>\n",
              "      <td>246.821198</td>\n",
              "      <td>50.337624</td>\n",
              "      <td>10.274257</td>\n",
              "      <td>33.694059</td>\n",
              "      <td>762.006941</td>\n",
              "    </tr>\n",
              "  </tbody>\n",
              "</table>\n",
              "</div>"
            ],
            "text/plain": [
              "         property_valuation   list_price  ...        Age  profit_margin\n",
              "cluster                                   ...                          \n",
              "0                  7.485697   210.269631  ...  33.679976      74.708623\n",
              "1                  7.547101  1736.847993  ...  33.473188     874.297268\n",
              "2                  7.498278  1300.318450  ...  33.708381     220.843617\n",
              "3                  7.489610  1155.537513  ...  33.575974     446.689922\n",
              "4                  7.481645  1353.115198  ...  33.531571    1219.305668\n",
              "5                  7.415825  1909.229318  ...  33.531987    1532.102500\n",
              "6                  7.489923   602.559280  ...  33.353647     157.454386\n",
              "7                  7.509434  1777.268836  ...  33.498428     195.500535\n",
              "8                  7.411881  1008.828139  ...  33.694059     762.006941\n",
              "\n",
              "[9 rows x 7 columns]"
            ]
          },
          "metadata": {
            "tags": []
          },
          "execution_count": 44
        }
      ]
    },
    {
      "cell_type": "code",
      "metadata": {
        "id": "NiRi3lLKI44s",
        "colab_type": "code",
        "colab": {}
      },
      "source": [
        "merged_df['clusters']= labels\n",
        "merged_df.to_excel('kpmg_clustered.xlsx')"
      ],
      "execution_count": null,
      "outputs": []
    },
    {
      "cell_type": "code",
      "metadata": {
        "id": "6NlLmSTVuQkR",
        "colab_type": "code",
        "colab": {
          "base_uri": "https://localhost:8080/",
          "height": 403
        },
        "outputId": "18c7363b-9fd8-41ec-a568-2534ca833d29"
      },
      "source": [
        "plt.figure(figsize= (13,9))\n",
        "sns.catplot(x = 'clusters', y = 'profit_margin', data = merged_df, kind=\"box\")"
      ],
      "execution_count": 51,
      "outputs": [
        {
          "output_type": "execute_result",
          "data": {
            "text/plain": [
              "<seaborn.axisgrid.FacetGrid at 0x7f4b6ae1b9b0>"
            ]
          },
          "metadata": {
            "tags": []
          },
          "execution_count": 51
        },
        {
          "output_type": "display_data",
          "data": {
            "text/plain": [
              "<Figure size 936x648 with 0 Axes>"
            ]
          },
          "metadata": {
            "tags": []
          }
        },
        {
          "output_type": "display_data",
          "data": {
            "image/png": "[encoded data removed]",
            "text/plain": [
              "<Figure size 360x360 with 1 Axes>"
            ]
          },
          "metadata": {
            "tags": [],
            "needs_background": "light"
          }
        }
      ]
    },
    {
      "cell_type": "code",
      "metadata": {
        "id": "fZAmN4bZcpwc",
        "colab_type": "code",
        "colab": {}
      },
      "source": [
        ""
      ],
      "execution_count": null,
      "outputs": []
    }
  ]
}