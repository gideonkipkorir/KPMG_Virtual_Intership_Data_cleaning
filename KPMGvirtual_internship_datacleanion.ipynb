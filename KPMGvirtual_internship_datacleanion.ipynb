{
  "nbformat": 4,
  "nbformat_minor": 0,
  "metadata": {
    "colab": {
      "name": "KPMGvirtual_internship_datacleanion.ipynb",
      "provenance": [],
      "collapsed_sections": [],
      "authorship_tag": "ABX9TyOuH7+my0aXFvuWDujc1lNU",
      "include_colab_link": true
    },
    "kernelspec": {
      "name": "python3",
      "display_name": "Python 3"
    }
  },
  "cells": [
    {
      "cell_type": "markdown",
      "metadata": {
        "id": "view-in-github",
        "colab_type": "text"
      },
      "source": [
        "<a href=\"https://colab.research.google.com/github/gideonkipkorir/KPMG_Virtual_Intership_Data_cleaning/blob/master/KPMGvirtual_internship_datacleanion.ipynb\" target=\"_parent\"><img src=\"https://colab.research.google.com/assets/colab-badge.svg\" alt=\"Open In Colab\"/></a>"
      ]
    },
    {
      "cell_type": "code",
      "metadata": {
        "id": "IJ0npvsRY910",
        "colab_type": "code",
        "colab": {}
      },
      "source": [
        "# loading libriaries\n",
        "import pandas as pd\n",
        "import numpy as np\n",
        "import matplotlib.pyplot as plt\n",
        "import seaborn as sns"
      ],
      "execution_count": 194,
      "outputs": []
    },
    {
      "cell_type": "code",
      "metadata": {
        "id": "GOPTe6q3ZTlw",
        "colab_type": "code",
        "colab": {
          "base_uri": "https://localhost:8080/",
          "height": 284
        },
        "outputId": "73636b60-4329-4f1c-d285-e2a173cf3609"
      },
      "source": [
        "df_trans = pd.read_excel('/content/KPMG_VI_New_raw_data_update_final.xlsx', 'Transactions')\n",
        "df_trans.head()"
      ],
      "execution_count": 195,
      "outputs": [
        {
          "output_type": "execute_result",
          "data": {
            "text/html": [
              "<div>\n",
              "<style scoped>\n",
              "    .dataframe tbody tr th:only-of-type {\n",
              "        vertical-align: middle;\n",
              "    }\n",
              "\n",
              "    .dataframe tbody tr th {\n",
              "        vertical-align: top;\n",
              "    }\n",
              "\n",
              "    .dataframe thead th {\n",
              "        text-align: right;\n",
              "    }\n",
              "</style>\n",
              "<table border=\"1\" class=\"dataframe\">\n",
              "  <thead>\n",
              "    <tr style=\"text-align: right;\">\n",
              "      <th></th>\n",
              "      <th>transaction_id</th>\n",
              "      <th>product_id</th>\n",
              "      <th>customer_id</th>\n",
              "      <th>transaction_date</th>\n",
              "      <th>online_order</th>\n",
              "      <th>order_status</th>\n",
              "      <th>brand</th>\n",
              "      <th>product_line</th>\n",
              "      <th>product_class</th>\n",
              "      <th>product_size</th>\n",
              "      <th>list_price</th>\n",
              "      <th>standard_cost</th>\n",
              "      <th>product_first_sold_date</th>\n",
              "    </tr>\n",
              "  </thead>\n",
              "  <tbody>\n",
              "    <tr>\n",
              "      <th>0</th>\n",
              "      <td>1</td>\n",
              "      <td>2</td>\n",
              "      <td>2950</td>\n",
              "      <td>2017-02-25</td>\n",
              "      <td>0.0</td>\n",
              "      <td>Approved</td>\n",
              "      <td>Solex</td>\n",
              "      <td>Standard</td>\n",
              "      <td>medium</td>\n",
              "      <td>medium</td>\n",
              "      <td>71.49</td>\n",
              "      <td>53.62</td>\n",
              "      <td>41245.0</td>\n",
              "    </tr>\n",
              "    <tr>\n",
              "      <th>1</th>\n",
              "      <td>2</td>\n",
              "      <td>3</td>\n",
              "      <td>3120</td>\n",
              "      <td>2017-05-21</td>\n",
              "      <td>1.0</td>\n",
              "      <td>Approved</td>\n",
              "      <td>Trek Bicycles</td>\n",
              "      <td>Standard</td>\n",
              "      <td>medium</td>\n",
              "      <td>large</td>\n",
              "      <td>2091.47</td>\n",
              "      <td>388.92</td>\n",
              "      <td>41701.0</td>\n",
              "    </tr>\n",
              "    <tr>\n",
              "      <th>2</th>\n",
              "      <td>3</td>\n",
              "      <td>37</td>\n",
              "      <td>402</td>\n",
              "      <td>2017-10-16</td>\n",
              "      <td>0.0</td>\n",
              "      <td>Approved</td>\n",
              "      <td>OHM Cycles</td>\n",
              "      <td>Standard</td>\n",
              "      <td>low</td>\n",
              "      <td>medium</td>\n",
              "      <td>1793.43</td>\n",
              "      <td>248.82</td>\n",
              "      <td>36361.0</td>\n",
              "    </tr>\n",
              "    <tr>\n",
              "      <th>3</th>\n",
              "      <td>4</td>\n",
              "      <td>88</td>\n",
              "      <td>3135</td>\n",
              "      <td>2017-08-31</td>\n",
              "      <td>0.0</td>\n",
              "      <td>Approved</td>\n",
              "      <td>Norco Bicycles</td>\n",
              "      <td>Standard</td>\n",
              "      <td>medium</td>\n",
              "      <td>medium</td>\n",
              "      <td>1198.46</td>\n",
              "      <td>381.10</td>\n",
              "      <td>36145.0</td>\n",
              "    </tr>\n",
              "    <tr>\n",
              "      <th>4</th>\n",
              "      <td>5</td>\n",
              "      <td>78</td>\n",
              "      <td>787</td>\n",
              "      <td>2017-10-01</td>\n",
              "      <td>1.0</td>\n",
              "      <td>Approved</td>\n",
              "      <td>Giant Bicycles</td>\n",
              "      <td>Standard</td>\n",
              "      <td>medium</td>\n",
              "      <td>large</td>\n",
              "      <td>1765.30</td>\n",
              "      <td>709.48</td>\n",
              "      <td>42226.0</td>\n",
              "    </tr>\n",
              "  </tbody>\n",
              "</table>\n",
              "</div>"
            ],
            "text/plain": [
              "   transaction_id  product_id  ...  standard_cost product_first_sold_date\n",
              "0               1           2  ...          53.62                 41245.0\n",
              "1               2           3  ...         388.92                 41701.0\n",
              "2               3          37  ...         248.82                 36361.0\n",
              "3               4          88  ...         381.10                 36145.0\n",
              "4               5          78  ...         709.48                 42226.0\n",
              "\n",
              "[5 rows x 13 columns]"
            ]
          },
          "metadata": {
            "tags": []
          },
          "execution_count": 195
        }
      ]
    },
    {
      "cell_type": "markdown",
      "metadata": {
        "id": "USz8VtoatSSD",
        "colab_type": "text"
      },
      "source": [
        "Data **Undersatanding**"
      ]
    },
    {
      "cell_type": "code",
      "metadata": {
        "id": "3QykMaDiWycb",
        "colab_type": "code",
        "colab": {}
      },
      "source": [
        "def data_understanding(df):\n",
        "  return 'Data Dimension', df.shape , 60*'x',df.info(),60*'x', 'checking for missing values',df.isnull().sum(),'checking the number of unique values',60*'x', df.nunique()"
      ],
      "execution_count": 196,
      "outputs": []
    },
    {
      "cell_type": "code",
      "metadata": {
        "id": "uqTQ_-NtwD7Y",
        "colab_type": "code",
        "colab": {
          "base_uri": "https://localhost:8080/",
          "height": 1000
        },
        "outputId": "37fad182-e1df-479b-dd18-a59b5b4a0138"
      },
      "source": [
        "data_understanding(df_trans)"
      ],
      "execution_count": 197,
      "outputs": [
        {
          "output_type": "stream",
          "text": [
            "<class 'pandas.core.frame.DataFrame'>\n",
            "RangeIndex: 20000 entries, 0 to 19999\n",
            "Data columns (total 13 columns):\n",
            " #   Column                   Non-Null Count  Dtype         \n",
            "---  ------                   --------------  -----         \n",
            " 0   transaction_id           20000 non-null  int64         \n",
            " 1   product_id               20000 non-null  int64         \n",
            " 2   customer_id              20000 non-null  int64         \n",
            " 3   transaction_date         20000 non-null  datetime64[ns]\n",
            " 4   online_order             19640 non-null  float64       \n",
            " 5   order_status             20000 non-null  object        \n",
            " 6   brand                    19803 non-null  object        \n",
            " 7   product_line             19803 non-null  object        \n",
            " 8   product_class            19803 non-null  object        \n",
            " 9   product_size             19803 non-null  object        \n",
            " 10  list_price               20000 non-null  float64       \n",
            " 11  standard_cost            19803 non-null  float64       \n",
            " 12  product_first_sold_date  19803 non-null  float64       \n",
            "dtypes: datetime64[ns](1), float64(4), int64(3), object(5)\n",
            "memory usage: 2.0+ MB\n"
          ],
          "name": "stdout"
        },
        {
          "output_type": "execute_result",
          "data": {
            "text/plain": [
              "('Data Dimension',\n",
              " (20000, 13),\n",
              " 'xxxxxxxxxxxxxxxxxxxxxxxxxxxxxxxxxxxxxxxxxxxxxxxxxxxxxxxxxxxx',\n",
              " None,\n",
              " 'xxxxxxxxxxxxxxxxxxxxxxxxxxxxxxxxxxxxxxxxxxxxxxxxxxxxxxxxxxxx',\n",
              " 'checking for missing values',\n",
              " transaction_id               0\n",
              " product_id                   0\n",
              " customer_id                  0\n",
              " transaction_date             0\n",
              " online_order               360\n",
              " order_status                 0\n",
              " brand                      197\n",
              " product_line               197\n",
              " product_class              197\n",
              " product_size               197\n",
              " list_price                   0\n",
              " standard_cost              197\n",
              " product_first_sold_date    197\n",
              " dtype: int64,\n",
              " 'checking the number of unique values',\n",
              " 'xxxxxxxxxxxxxxxxxxxxxxxxxxxxxxxxxxxxxxxxxxxxxxxxxxxxxxxxxxxx',\n",
              " transaction_id             20000\n",
              " product_id                   101\n",
              " customer_id                 3494\n",
              " transaction_date             364\n",
              " online_order                   2\n",
              " order_status                   2\n",
              " brand                          6\n",
              " product_line                   4\n",
              " product_class                  3\n",
              " product_size                   3\n",
              " list_price                   296\n",
              " standard_cost                103\n",
              " product_first_sold_date      100\n",
              " dtype: int64)"
            ]
          },
          "metadata": {
            "tags": []
          },
          "execution_count": 197
        }
      ]
    },
    {
      "cell_type": "markdown",
      "metadata": {
        "id": "KnxJZWfi1EAO",
        "colab_type": "text"
      },
      "source": [
        "Droping null values for critical fields that cannot be imputed"
      ]
    },
    {
      "cell_type": "code",
      "metadata": {
        "id": "OeSwRiAmWoEt",
        "colab_type": "code",
        "colab": {}
      },
      "source": [
        "def drop_null_val(dataFrame, column_name ):#column should be in quotes\n",
        "  return dataFrame.dropna(subset = [column_name], inplace=True) ,'New shape :',dataFrame.shape"
      ],
      "execution_count": 198,
      "outputs": []
    },
    {
      "cell_type": "code",
      "metadata": {
        "id": "3dvhnFX22Yg7",
        "colab_type": "code",
        "colab": {
          "base_uri": "https://localhost:8080/",
          "height": 34
        },
        "outputId": "8aad546e-2a9a-4216-e68c-34a44ba58ff2"
      },
      "source": [
        "drop_null_val(df_trans, 'product_first_sold_date')"
      ],
      "execution_count": 199,
      "outputs": [
        {
          "output_type": "execute_result",
          "data": {
            "text/plain": [
              "(None, 'New shape :', (19803, 13))"
            ]
          },
          "metadata": {
            "tags": []
          },
          "execution_count": 199
        }
      ]
    },
    {
      "cell_type": "markdown",
      "metadata": {
        "id": "zcJCgvfo7KbA",
        "colab_type": "text"
      },
      "source": [
        "Descriptive statistic/ Eploratory data analysis"
      ]
    },
    {
      "cell_type": "code",
      "metadata": {
        "id": "inNrqyMS7Ij1",
        "colab_type": "code",
        "colab": {}
      },
      "source": [
        "def descriptive_stats(df):\n",
        "  cat_data = df.select_dtypes(include = 'object')\n",
        "  num_data = df.select_dtypes(include = [int, float])\n",
        "  date_data = df.select_dtypes('datetime64[ns]')\n",
        "  return  'descriptive statistic for categorical data',50*'x' ,cat_data.describe(),'descriptive statistic for numerical data',50*'x',num_data.describe(),'descriptive statistic for date data',50*'x', date_data.describe()"
      ],
      "execution_count": 256,
      "outputs": []
    },
    {
      "cell_type": "code",
      "metadata": {
        "id": "COc6ib9iLC95",
        "colab_type": "code",
        "colab": {
          "base_uri": "https://localhost:8080/",
          "height": 532
        },
        "outputId": "053355bc-258b-4013-bb9c-1387bd53bf7b"
      },
      "source": [
        "descriptive_stats(df_trans)"
      ],
      "execution_count": 258,
      "outputs": [
        {
          "output_type": "execute_result",
          "data": {
            "text/plain": [
              "('descriptive statistic for categorical data',\n",
              " 'xxxxxxxxxxxxxxxxxxxxxxxxxxxxxxxxxxxxxxxxxxxxxxxxxx',\n",
              "        order_status  brand product_line product_class product_size\n",
              " count         19803  19803        19803         19803        19803\n",
              " unique            2      6            4             3            3\n",
              " top        Approved  Solex     Standard        medium       medium\n",
              " freq          19625   4253        14176         13826        12990,\n",
              " 'descriptive statistic for numerical data',\n",
              " 'xxxxxxxxxxxxxxxxxxxxxxxxxxxxxxxxxxxxxxxxxxxxxxxxxx',\n",
              "        transaction_id    product_id  ...  standard_cost  product_first_sold_date\n",
              " count    19803.000000  19803.000000  ...   19803.000000             19803.000000\n",
              " mean      9993.979650     45.815937  ...     556.046951             38199.776549\n",
              " std       5776.499961     30.569841  ...     405.955660              2875.201110\n",
              " min          1.000000      0.000000  ...       7.210000             33259.000000\n",
              " 25%       4988.500000     18.000000  ...     215.140000             35667.000000\n",
              " 50%       9995.000000     45.000000  ...     507.580000             38216.000000\n",
              " 75%      15000.500000     72.000000  ...     795.100000             40672.000000\n",
              " max      20000.000000    100.000000  ...    1759.850000             42710.000000\n",
              " \n",
              " [8 rows x 7 columns],\n",
              " 'descriptive statistic for date data',\n",
              " 'xxxxxxxxxxxxxxxxxxxxxxxxxxxxxxxxxxxxxxxxxxxxxxxxxx',\n",
              "            transaction_date\n",
              " count                 19803\n",
              " unique                  364\n",
              " top     2017-08-18 00:00:00\n",
              " freq                     82\n",
              " first   2017-01-01 00:00:00\n",
              " last    2017-12-30 00:00:00)"
            ]
          },
          "metadata": {
            "tags": []
          },
          "execution_count": 258
        }
      ]
    },
    {
      "cell_type": "markdown",
      "metadata": {
        "id": "mOS_eEm4gsPe",
        "colab_type": "text"
      },
      "source": [
        "There seem to be no anomalies in our dataset"
      ]
    },
    {
      "cell_type": "code",
      "metadata": {
        "id": "ig9IzYB0pVxP",
        "colab_type": "code",
        "colab": {
          "base_uri": "https://localhost:8080/",
          "height": 176
        },
        "outputId": "ae536e54-4f79-481f-e645-5b0e0553a98e"
      },
      "source": [
        "loss = df_trans.list_price-df_trans.standard_cost \n",
        "loss.describe()"
      ],
      "execution_count": 10,
      "outputs": [
        {
          "output_type": "execute_result",
          "data": {
            "text/plain": [
              "count    19803.000000\n",
              "mean       551.950915\n",
              "std        493.412849\n",
              "min          4.800000\n",
              "25%        133.780000\n",
              "50%        445.210000\n",
              "75%        830.240000\n",
              "max       1702.550000\n",
              "dtype: float64"
            ]
          },
          "metadata": {
            "tags": []
          },
          "execution_count": 10
        }
      ]
    },
    {
      "cell_type": "markdown",
      "metadata": {
        "id": "bOp39FvthCI_",
        "colab_type": "text"
      },
      "source": [
        "checks, to see if there were products being sold at a loss"
      ]
    },
    {
      "cell_type": "code",
      "metadata": {
        "id": "dnQQyyeKurQK",
        "colab_type": "code",
        "colab": {
          "base_uri": "https://localhost:8080/",
          "height": 34
        },
        "outputId": "9f10c8fe-8775-42f9-d65d-0e671352ac97"
      },
      "source": [
        "df_trans.duplicated().any()"
      ],
      "execution_count": 206,
      "outputs": [
        {
          "output_type": "execute_result",
          "data": {
            "text/plain": [
              "False"
            ]
          },
          "metadata": {
            "tags": []
          },
          "execution_count": 206
        }
      ]
    },
    {
      "cell_type": "code",
      "metadata": {
        "id": "IxCJVrtGthS8",
        "colab_type": "code",
        "colab": {
          "base_uri": "https://localhost:8080/",
          "height": 34
        },
        "outputId": "5f3a97c2-4475-4b2c-ecc1-d5a4bbacc233"
      },
      "source": [
        "for j in set(df_trans.dtypes):\n",
        "  if j == 'O':\n",
        "    print('y')"
      ],
      "execution_count": 248,
      "outputs": [
        {
          "output_type": "stream",
          "text": [
            "y\n"
          ],
          "name": "stdout"
        }
      ]
    },
    {
      "cell_type": "code",
      "metadata": {
        "id": "-B-LkvLet-id",
        "colab_type": "code",
        "colab": {
          "base_uri": "https://localhost:8080/",
          "height": 34
        },
        "outputId": "a3b093e4-cd71-4ff8-c513-96e24b454b2d"
      },
      "source": [
        "set(df_trans.dtypes)"
      ],
      "execution_count": 245,
      "outputs": [
        {
          "output_type": "execute_result",
          "data": {
            "text/plain": [
              "{dtype('int64'), dtype('<M8[ns]'), dtype('float64'), dtype('O')}"
            ]
          },
          "metadata": {
            "tags": []
          },
          "execution_count": 245
        }
      ]
    },
    {
      "cell_type": "code",
      "metadata": {
        "id": "ii9x-VFEznSX",
        "colab_type": "code",
        "colab": {}
      },
      "source": [
        "\n",
        "df_trans.to_excel('transaction.xlsx')#exporting our file to an excel file\n"
      ],
      "execution_count": 13,
      "outputs": []
    },
    {
      "cell_type": "markdown",
      "metadata": {
        "id": "RbgNnFqXlByp",
        "colab_type": "text"
      },
      "source": [
        "##Customer demographics analyis\n",
        "\n",
        "for better analysis we will combine customer demograhics table with  customer adress since they form part of the demographics"
      ]
    },
    {
      "cell_type": "code",
      "metadata": {
        "id": "FbtVJi_1rhPK",
        "colab_type": "code",
        "colab": {
          "base_uri": "https://localhost:8080/",
          "height": 317
        },
        "outputId": "f85cb468-db58-4e25-a822-8ec59a3b10a9"
      },
      "source": [
        "customer = pd.read_excel('/content/KPMG_VI_New_raw_data_update_final.xlsx', 'CustomerDemographic',skiprows=1, index_col= None )\n",
        "customer.head()"
      ],
      "execution_count": 214,
      "outputs": [
        {
          "output_type": "execute_result",
          "data": {
            "text/html": [
              "<div>\n",
              "<style scoped>\n",
              "    .dataframe tbody tr th:only-of-type {\n",
              "        vertical-align: middle;\n",
              "    }\n",
              "\n",
              "    .dataframe tbody tr th {\n",
              "        vertical-align: top;\n",
              "    }\n",
              "\n",
              "    .dataframe thead th {\n",
              "        text-align: right;\n",
              "    }\n",
              "</style>\n",
              "<table border=\"1\" class=\"dataframe\">\n",
              "  <thead>\n",
              "    <tr style=\"text-align: right;\">\n",
              "      <th></th>\n",
              "      <th>customer_id</th>\n",
              "      <th>first_name</th>\n",
              "      <th>last_name</th>\n",
              "      <th>gender</th>\n",
              "      <th>past_3_years_bike_related_purchases</th>\n",
              "      <th>DOB</th>\n",
              "      <th>customer_id.1</th>\n",
              "      <th>job_industry_category</th>\n",
              "      <th>wealth_segment</th>\n",
              "      <th>deceased_indicator</th>\n",
              "      <th>default</th>\n",
              "      <th>owns_car</th>\n",
              "      <th>tenure</th>\n",
              "    </tr>\n",
              "  </thead>\n",
              "  <tbody>\n",
              "    <tr>\n",
              "      <th>0</th>\n",
              "      <td>1.0</td>\n",
              "      <td>Laraine</td>\n",
              "      <td>Medendorp</td>\n",
              "      <td>F</td>\n",
              "      <td>93</td>\n",
              "      <td>1953-10-12</td>\n",
              "      <td>1</td>\n",
              "      <td>Health</td>\n",
              "      <td>Mass Customer</td>\n",
              "      <td>N</td>\n",
              "      <td>\"'</td>\n",
              "      <td>Yes</td>\n",
              "      <td>11.0</td>\n",
              "    </tr>\n",
              "    <tr>\n",
              "      <th>1</th>\n",
              "      <td>2.0</td>\n",
              "      <td>Eli</td>\n",
              "      <td>Bockman</td>\n",
              "      <td>Male</td>\n",
              "      <td>81</td>\n",
              "      <td>1980-12-16</td>\n",
              "      <td>2</td>\n",
              "      <td>Financial Services</td>\n",
              "      <td>Mass Customer</td>\n",
              "      <td>N</td>\n",
              "      <td>&lt;script&gt;alert('hi')&lt;/script&gt;</td>\n",
              "      <td>Yes</td>\n",
              "      <td>16.0</td>\n",
              "    </tr>\n",
              "    <tr>\n",
              "      <th>2</th>\n",
              "      <td>4.0</td>\n",
              "      <td>Arlin</td>\n",
              "      <td>Dearle</td>\n",
              "      <td>Male</td>\n",
              "      <td>61</td>\n",
              "      <td>1954-01-20</td>\n",
              "      <td>3</td>\n",
              "      <td>Property</td>\n",
              "      <td>Mass Customer</td>\n",
              "      <td>N</td>\n",
              "      <td>2018-02-01 00:00:00</td>\n",
              "      <td>Yes</td>\n",
              "      <td>15.0</td>\n",
              "    </tr>\n",
              "    <tr>\n",
              "      <th>3</th>\n",
              "      <td>5.0</td>\n",
              "      <td>Talbot</td>\n",
              "      <td>NaN</td>\n",
              "      <td>Male</td>\n",
              "      <td>33</td>\n",
              "      <td>1961-10-03</td>\n",
              "      <td>4</td>\n",
              "      <td>IT</td>\n",
              "      <td>Mass Customer</td>\n",
              "      <td>N</td>\n",
              "      <td>() { _; } &gt;_[$($())] { touch /tmp/blns.shellsh...</td>\n",
              "      <td>No</td>\n",
              "      <td>7.0</td>\n",
              "    </tr>\n",
              "    <tr>\n",
              "      <th>4</th>\n",
              "      <td>6.0</td>\n",
              "      <td>Sheila-kathryn</td>\n",
              "      <td>Calton</td>\n",
              "      <td>Female</td>\n",
              "      <td>56</td>\n",
              "      <td>1977-05-13</td>\n",
              "      <td>5</td>\n",
              "      <td>NaN</td>\n",
              "      <td>Affluent Customer</td>\n",
              "      <td>N</td>\n",
              "      <td>NIL</td>\n",
              "      <td>Yes</td>\n",
              "      <td>8.0</td>\n",
              "    </tr>\n",
              "  </tbody>\n",
              "</table>\n",
              "</div>"
            ],
            "text/plain": [
              "   customer_id      first_name  ... owns_car tenure\n",
              "0          1.0         Laraine  ...      Yes   11.0\n",
              "1          2.0             Eli  ...      Yes   16.0\n",
              "2          4.0           Arlin  ...      Yes   15.0\n",
              "3          5.0          Talbot  ...       No    7.0\n",
              "4          6.0  Sheila-kathryn  ...      Yes    8.0\n",
              "\n",
              "[5 rows x 13 columns]"
            ]
          },
          "metadata": {
            "tags": []
          },
          "execution_count": 214
        }
      ]
    },
    {
      "cell_type": "markdown",
      "metadata": {
        "id": "lLfgrbgAqCpS",
        "colab_type": "text"
      },
      "source": [
        "## data understanding"
      ]
    },
    {
      "cell_type": "code",
      "metadata": {
        "id": "7_P4Ctlcm2Ve",
        "colab_type": "code",
        "colab": {
          "base_uri": "https://localhost:8080/",
          "height": 1000
        },
        "outputId": "3478cc1e-a4d1-41c0-ee3d-7be54f5ac5e9"
      },
      "source": [
        "data_understanding(customer)"
      ],
      "execution_count": 226,
      "outputs": [
        {
          "output_type": "stream",
          "text": [
            "<class 'pandas.core.frame.DataFrame'>\n",
            "RangeIndex: 4000 entries, 0 to 3999\n",
            "Data columns (total 13 columns):\n",
            " #   Column                               Non-Null Count  Dtype         \n",
            "---  ------                               --------------  -----         \n",
            " 0   customer_id                          4000 non-null   object        \n",
            " 1   first_name                           4000 non-null   object        \n",
            " 2   last_name                            3875 non-null   object        \n",
            " 3   gender                               4000 non-null   object        \n",
            " 4   past_3_years_bike_related_purchases  4000 non-null   int64         \n",
            " 5   DOB                                  3913 non-null   datetime64[ns]\n",
            " 6   customer_id.1                        4000 non-null   object        \n",
            " 7   job_industry_category                3344 non-null   object        \n",
            " 8   wealth_segment                       4000 non-null   object        \n",
            " 9   deceased_indicator                   4000 non-null   object        \n",
            " 10  default                              3698 non-null   object        \n",
            " 11  owns_car                             4000 non-null   object        \n",
            " 12  tenure                               3913 non-null   float64       \n",
            "dtypes: datetime64[ns](1), float64(1), int64(1), object(10)\n",
            "memory usage: 406.4+ KB\n"
          ],
          "name": "stdout"
        },
        {
          "output_type": "execute_result",
          "data": {
            "text/plain": [
              "('Data Dimension',\n",
              " (4000, 13),\n",
              " 'xxxxxxxxxxxxxxxxxxxxxxxxxxxxxxxxxxxxxxxxxxxxxxxxxxxxxxxxxxxx',\n",
              " None,\n",
              " 'xxxxxxxxxxxxxxxxxxxxxxxxxxxxxxxxxxxxxxxxxxxxxxxxxxxxxxxxxxxx',\n",
              " 'checking for missing values',\n",
              " customer_id                              0\n",
              " first_name                               0\n",
              " last_name                              125\n",
              " gender                                   0\n",
              " past_3_years_bike_related_purchases      0\n",
              " DOB                                     87\n",
              " customer_id.1                            0\n",
              " job_industry_category                  656\n",
              " wealth_segment                           0\n",
              " deceased_indicator                       0\n",
              " default                                302\n",
              " owns_car                                 0\n",
              " tenure                                  87\n",
              " dtype: int64,\n",
              " 'checking the number of unique values',\n",
              " 'xxxxxxxxxxxxxxxxxxxxxxxxxxxxxxxxxxxxxxxxxxxxxxxxxxxxxxxxxxxx',\n",
              " customer_id                            4000\n",
              " first_name                             3139\n",
              " last_name                              3725\n",
              " gender                                    6\n",
              " past_3_years_bike_related_purchases     100\n",
              " DOB                                    3448\n",
              " customer_id.1                          4000\n",
              " job_industry_category                     9\n",
              " wealth_segment                            3\n",
              " deceased_indicator                        2\n",
              " default                                  90\n",
              " owns_car                                  2\n",
              " tenure                                   22\n",
              " dtype: int64)"
            ]
          },
          "metadata": {
            "tags": []
          },
          "execution_count": 226
        }
      ]
    },
    {
      "cell_type": "markdown",
      "metadata": {
        "id": "DcT-0u2eqLz8",
        "colab_type": "text"
      },
      "source": [
        "## Descriptive statistics / Exploartory analysis"
      ]
    },
    {
      "cell_type": "code",
      "metadata": {
        "id": "d3bLZ0OrqQez",
        "colab_type": "code",
        "colab": {
          "base_uri": "https://localhost:8080/",
          "height": 532
        },
        "outputId": "e4750650-c0ed-4b2f-d46d-b8d0c27d0060"
      },
      "source": [
        "descriptive_stats(customer)"
      ],
      "execution_count": 236,
      "outputs": [
        {
          "output_type": "execute_result",
          "data": {
            "text/plain": [
              "('descriptive statistic for categorical data',\n",
              " 'xxxxxxxxxxxxxxxxxxxxxxxxxxxxxxxxxxxxxxxxxxxxxxxxxx',\n",
              "                  customer_id first_name  ... default owns_car\n",
              " count                   4000       4000  ...    3698     4000\n",
              " unique                  4000       3139  ...      90        2\n",
              " top     Software Engineer IV       Tobe  ...     100      Yes\n",
              " freq                       1          5  ...     113     2024\n",
              " \n",
              " [4 rows x 10 columns],\n",
              " 'descriptive statistic for numerical data',\n",
              " 'xxxxxxxxxxxxxxxxxxxxxxxxxxxxxxxxxxxxxxxxxxxxxxxxxx',\n",
              "        past_3_years_bike_related_purchases       tenure\n",
              " count                          4000.000000  3913.000000\n",
              " mean                             48.890000    10.657041\n",
              " std                              28.715005     5.660146\n",
              " min                               0.000000     1.000000\n",
              " 25%                              24.000000     6.000000\n",
              " 50%                              48.000000    11.000000\n",
              " 75%                              73.000000    15.000000\n",
              " max                              99.000000    22.000000,\n",
              " 'descriptive statistic for date data',\n",
              " 'xxxxxxxxxxxxxxxxxxxxxxxxxxxxxxxxxxxxxxxxxxxxxxxxxx',\n",
              "                         DOB\n",
              " count                  3913\n",
              " unique                 3448\n",
              " top     1978-01-30 00:00:00\n",
              " freq                      7\n",
              " first   1843-12-21 00:00:00\n",
              " last    2002-03-11 00:00:00)"
            ]
          },
          "metadata": {
            "tags": []
          },
          "execution_count": 236
        }
      ]
    },
    {
      "cell_type": "code",
      "metadata": {
        "id": "6ku6rx_1mqv6",
        "colab_type": "code",
        "colab": {}
      },
      "source": [
        "customer.customer_id = customer['customer_id.1'] #to update the missing value i custome_id"
      ],
      "execution_count": 237,
      "outputs": []
    },
    {
      "cell_type": "code",
      "metadata": {
        "id": "ZimmG3JtNR9A",
        "colab_type": "code",
        "colab": {
          "base_uri": "https://localhost:8080/",
          "height": 197
        },
        "outputId": "5030a73e-c612-40dd-a057-57c8ac96f79e"
      },
      "source": [
        "custAdres = pd.read_excel('/content/KPMG_VI_New_raw_data_update_final.xlsx', 'CustomerAddress', skiprows=1)\n",
        "custAdres.head()"
      ],
      "execution_count": 222,
      "outputs": [
        {
          "output_type": "execute_result",
          "data": {
            "text/html": [
              "<div>\n",
              "<style scoped>\n",
              "    .dataframe tbody tr th:only-of-type {\n",
              "        vertical-align: middle;\n",
              "    }\n",
              "\n",
              "    .dataframe tbody tr th {\n",
              "        vertical-align: top;\n",
              "    }\n",
              "\n",
              "    .dataframe thead th {\n",
              "        text-align: right;\n",
              "    }\n",
              "</style>\n",
              "<table border=\"1\" class=\"dataframe\">\n",
              "  <thead>\n",
              "    <tr style=\"text-align: right;\">\n",
              "      <th></th>\n",
              "      <th>customer_id</th>\n",
              "      <th>address</th>\n",
              "      <th>postcode</th>\n",
              "      <th>state</th>\n",
              "      <th>country</th>\n",
              "      <th>property_valuation</th>\n",
              "    </tr>\n",
              "  </thead>\n",
              "  <tbody>\n",
              "    <tr>\n",
              "      <th>0</th>\n",
              "      <td>1</td>\n",
              "      <td>060 Morning Avenue</td>\n",
              "      <td>2016</td>\n",
              "      <td>New South Wales</td>\n",
              "      <td>Australia</td>\n",
              "      <td>10</td>\n",
              "    </tr>\n",
              "    <tr>\n",
              "      <th>1</th>\n",
              "      <td>2</td>\n",
              "      <td>6 Meadow Vale Court</td>\n",
              "      <td>2153</td>\n",
              "      <td>New South Wales</td>\n",
              "      <td>Australia</td>\n",
              "      <td>10</td>\n",
              "    </tr>\n",
              "    <tr>\n",
              "      <th>2</th>\n",
              "      <td>4</td>\n",
              "      <td>0 Holy Cross Court</td>\n",
              "      <td>4211</td>\n",
              "      <td>QLD</td>\n",
              "      <td>Australia</td>\n",
              "      <td>9</td>\n",
              "    </tr>\n",
              "    <tr>\n",
              "      <th>3</th>\n",
              "      <td>5</td>\n",
              "      <td>17979 Del Mar Point</td>\n",
              "      <td>2448</td>\n",
              "      <td>New South Wales</td>\n",
              "      <td>Australia</td>\n",
              "      <td>4</td>\n",
              "    </tr>\n",
              "    <tr>\n",
              "      <th>4</th>\n",
              "      <td>6</td>\n",
              "      <td>9 Oakridge Court</td>\n",
              "      <td>3216</td>\n",
              "      <td>VIC</td>\n",
              "      <td>Australia</td>\n",
              "      <td>9</td>\n",
              "    </tr>\n",
              "  </tbody>\n",
              "</table>\n",
              "</div>"
            ],
            "text/plain": [
              "   customer_id              address  ...    country property_valuation\n",
              "0            1   060 Morning Avenue  ...  Australia                 10\n",
              "1            2  6 Meadow Vale Court  ...  Australia                 10\n",
              "2            4   0 Holy Cross Court  ...  Australia                  9\n",
              "3            5  17979 Del Mar Point  ...  Australia                  4\n",
              "4            6     9 Oakridge Court  ...  Australia                  9\n",
              "\n",
              "[5 rows x 6 columns]"
            ]
          },
          "metadata": {
            "tags": []
          },
          "execution_count": 222
        }
      ]
    },
    {
      "cell_type": "markdown",
      "metadata": {
        "id": "3iJm7lMJqby6",
        "colab_type": "text"
      },
      "source": [
        "## Data understanding"
      ]
    },
    {
      "cell_type": "code",
      "metadata": {
        "id": "j8JwLtxsqh61",
        "colab_type": "code",
        "colab": {
          "base_uri": "https://localhost:8080/",
          "height": 638
        },
        "outputId": "5b9ee7db-10be-4ac6-80ee-af5cad44f3bf"
      },
      "source": [
        "data_understanding(custAdres)"
      ],
      "execution_count": 239,
      "outputs": [
        {
          "output_type": "stream",
          "text": [
            "<class 'pandas.core.frame.DataFrame'>\n",
            "RangeIndex: 3999 entries, 0 to 3998\n",
            "Data columns (total 6 columns):\n",
            " #   Column              Non-Null Count  Dtype \n",
            "---  ------              --------------  ----- \n",
            " 0   customer_id         3999 non-null   int64 \n",
            " 1   address             3999 non-null   object\n",
            " 2   postcode            3999 non-null   int64 \n",
            " 3   state               3999 non-null   object\n",
            " 4   country             3999 non-null   object\n",
            " 5   property_valuation  3999 non-null   int64 \n",
            "dtypes: int64(3), object(3)\n",
            "memory usage: 187.6+ KB\n"
          ],
          "name": "stdout"
        },
        {
          "output_type": "execute_result",
          "data": {
            "text/plain": [
              "('Data Dimension',\n",
              " (3999, 6),\n",
              " 'xxxxxxxxxxxxxxxxxxxxxxxxxxxxxxxxxxxxxxxxxxxxxxxxxxxxxxxxxxxx',\n",
              " None,\n",
              " 'xxxxxxxxxxxxxxxxxxxxxxxxxxxxxxxxxxxxxxxxxxxxxxxxxxxxxxxxxxxx',\n",
              " 'checking for missing values',\n",
              " customer_id           0\n",
              " address               0\n",
              " postcode              0\n",
              " state                 0\n",
              " country               0\n",
              " property_valuation    0\n",
              " dtype: int64,\n",
              " 'checking the number of unique values',\n",
              " 'xxxxxxxxxxxxxxxxxxxxxxxxxxxxxxxxxxxxxxxxxxxxxxxxxxxxxxxxxxxx',\n",
              " customer_id           3999\n",
              " address               3996\n",
              " postcode               873\n",
              " state                    5\n",
              " country                  1\n",
              " property_valuation      12\n",
              " dtype: int64)"
            ]
          },
          "metadata": {
            "tags": []
          },
          "execution_count": 239
        }
      ]
    },
    {
      "cell_type": "markdown",
      "metadata": {
        "id": "j_1490s8qw93",
        "colab_type": "text"
      },
      "source": [
        "##Descriptive statistics"
      ]
    },
    {
      "cell_type": "code",
      "metadata": {
        "id": "OKdjRJIAOYXj",
        "colab_type": "code",
        "colab": {
          "base_uri": "https://localhost:8080/",
          "height": 317
        },
        "outputId": "fb88d064-7687-4d1c-e124-2864293d5516"
      },
      "source": [
        "custdemo = customer.merge(custAdres,right_on = ['customer_id'],left_on ='customer_id' )\n",
        "custdemo = custdemo.drop(['customer_id.1'],1)\n",
        "customer.head()"
      ],
      "execution_count": 229,
      "outputs": [
        {
          "output_type": "execute_result",
          "data": {
            "text/html": [
              "<div>\n",
              "<style scoped>\n",
              "    .dataframe tbody tr th:only-of-type {\n",
              "        vertical-align: middle;\n",
              "    }\n",
              "\n",
              "    .dataframe tbody tr th {\n",
              "        vertical-align: top;\n",
              "    }\n",
              "\n",
              "    .dataframe thead th {\n",
              "        text-align: right;\n",
              "    }\n",
              "</style>\n",
              "<table border=\"1\" class=\"dataframe\">\n",
              "  <thead>\n",
              "    <tr style=\"text-align: right;\">\n",
              "      <th></th>\n",
              "      <th>customer_id</th>\n",
              "      <th>first_name</th>\n",
              "      <th>last_name</th>\n",
              "      <th>gender</th>\n",
              "      <th>past_3_years_bike_related_purchases</th>\n",
              "      <th>DOB</th>\n",
              "      <th>customer_id.1</th>\n",
              "      <th>job_industry_category</th>\n",
              "      <th>wealth_segment</th>\n",
              "      <th>deceased_indicator</th>\n",
              "      <th>default</th>\n",
              "      <th>owns_car</th>\n",
              "      <th>tenure</th>\n",
              "    </tr>\n",
              "  </thead>\n",
              "  <tbody>\n",
              "    <tr>\n",
              "      <th>0</th>\n",
              "      <td>1</td>\n",
              "      <td>Laraine</td>\n",
              "      <td>Medendorp</td>\n",
              "      <td>F</td>\n",
              "      <td>93</td>\n",
              "      <td>1953-10-12</td>\n",
              "      <td>1</td>\n",
              "      <td>Health</td>\n",
              "      <td>Mass Customer</td>\n",
              "      <td>N</td>\n",
              "      <td>\"'</td>\n",
              "      <td>Yes</td>\n",
              "      <td>11.0</td>\n",
              "    </tr>\n",
              "    <tr>\n",
              "      <th>1</th>\n",
              "      <td>2</td>\n",
              "      <td>Eli</td>\n",
              "      <td>Bockman</td>\n",
              "      <td>Male</td>\n",
              "      <td>81</td>\n",
              "      <td>1980-12-16</td>\n",
              "      <td>2</td>\n",
              "      <td>Financial Services</td>\n",
              "      <td>Mass Customer</td>\n",
              "      <td>N</td>\n",
              "      <td>&lt;script&gt;alert('hi')&lt;/script&gt;</td>\n",
              "      <td>Yes</td>\n",
              "      <td>16.0</td>\n",
              "    </tr>\n",
              "    <tr>\n",
              "      <th>2</th>\n",
              "      <td>3</td>\n",
              "      <td>Arlin</td>\n",
              "      <td>Dearle</td>\n",
              "      <td>Male</td>\n",
              "      <td>61</td>\n",
              "      <td>1954-01-20</td>\n",
              "      <td>3</td>\n",
              "      <td>Property</td>\n",
              "      <td>Mass Customer</td>\n",
              "      <td>N</td>\n",
              "      <td>2018-02-01 00:00:00</td>\n",
              "      <td>Yes</td>\n",
              "      <td>15.0</td>\n",
              "    </tr>\n",
              "    <tr>\n",
              "      <th>3</th>\n",
              "      <td>4</td>\n",
              "      <td>Talbot</td>\n",
              "      <td>NaN</td>\n",
              "      <td>Male</td>\n",
              "      <td>33</td>\n",
              "      <td>1961-10-03</td>\n",
              "      <td>4</td>\n",
              "      <td>IT</td>\n",
              "      <td>Mass Customer</td>\n",
              "      <td>N</td>\n",
              "      <td>() { _; } &gt;_[$($())] { touch /tmp/blns.shellsh...</td>\n",
              "      <td>No</td>\n",
              "      <td>7.0</td>\n",
              "    </tr>\n",
              "    <tr>\n",
              "      <th>4</th>\n",
              "      <td>5</td>\n",
              "      <td>Sheila-kathryn</td>\n",
              "      <td>Calton</td>\n",
              "      <td>Female</td>\n",
              "      <td>56</td>\n",
              "      <td>1977-05-13</td>\n",
              "      <td>5</td>\n",
              "      <td>NaN</td>\n",
              "      <td>Affluent Customer</td>\n",
              "      <td>N</td>\n",
              "      <td>NIL</td>\n",
              "      <td>Yes</td>\n",
              "      <td>8.0</td>\n",
              "    </tr>\n",
              "  </tbody>\n",
              "</table>\n",
              "</div>"
            ],
            "text/plain": [
              "  customer_id      first_name  ... owns_car tenure\n",
              "0           1         Laraine  ...      Yes   11.0\n",
              "1           2             Eli  ...      Yes   16.0\n",
              "2           3           Arlin  ...      Yes   15.0\n",
              "3           4          Talbot  ...       No    7.0\n",
              "4           5  Sheila-kathryn  ...      Yes    8.0\n",
              "\n",
              "[5 rows x 13 columns]"
            ]
          },
          "metadata": {
            "tags": []
          },
          "execution_count": 229
        }
      ]
    },
    {
      "cell_type": "markdown",
      "metadata": {
        "id": "IC09CC2jnOD0",
        "colab_type": "text"
      },
      "source": [
        "## Data Understanding"
      ]
    },
    {
      "cell_type": "code",
      "metadata": {
        "id": "1PTua4MInWsP",
        "colab_type": "code",
        "colab": {
          "base_uri": "https://localhost:8080/",
          "height": 567
        },
        "outputId": "74fffcd4-029c-4304-a4c2-8df0ccddeb08"
      },
      "source": [
        "descriptive_stats(custdemo)"
      ],
      "execution_count": 230,
      "outputs": [
        {
          "output_type": "execute_result",
          "data": {
            "text/plain": [
              "('descriptive statistic for categorical data',\n",
              " 'xxxxxxxxxxxxxxxxxxxxxxxxxxxxxxxxxxxxxxxxxxxxxxxxxx',\n",
              "         customer_id first_name  ... state    country\n",
              " count          3995       3995  ...  3995       3995\n",
              " unique         3995       3136  ...     5          1\n",
              " top            3999        Max  ...   NSW  Australia\n",
              " freq              1          5  ...  2052       3995\n",
              " \n",
              " [4 rows x 12 columns],\n",
              " 'descriptive statistic for numerical data',\n",
              " 'xxxxxxxxxxxxxxxxxxxxxxxxxxxxxxxxxxxxxxxxxxxxxxxxxx',\n",
              "        past_3_years_bike_related_purchases  ...  property_valuation\n",
              " count                          3995.000000  ...         3995.000000\n",
              " mean                             48.874093  ...            7.514393\n",
              " std                              28.725026  ...            2.825678\n",
              " min                               0.000000  ...            1.000000\n",
              " 25%                              24.000000  ...            6.000000\n",
              " 50%                              48.000000  ...            8.000000\n",
              " 75%                              73.000000  ...           10.000000\n",
              " max                              99.000000  ...           12.000000\n",
              " \n",
              " [8 rows x 4 columns],\n",
              " 'descriptive statistic for date data',\n",
              " 'xxxxxxxxxxxxxxxxxxxxxxxxxxxxxxxxxxxxxxxxxxxxxxxxxx',\n",
              "                         DOB\n",
              " count                  3908\n",
              " unique                 3443\n",
              " top     1978-01-30 00:00:00\n",
              " freq                      7\n",
              " first   1843-12-21 00:00:00\n",
              " last    2002-03-11 00:00:00)"
            ]
          },
          "metadata": {
            "tags": []
          },
          "execution_count": 230
        }
      ]
    },
    {
      "cell_type": "code",
      "metadata": {
        "id": "eRmu6_ykRvMy",
        "colab_type": "code",
        "colab": {}
      },
      "source": [
        "custdemo.dropna(subset = ['tenure', 'DOB'], inplace = True)#dropping null values for the sensitive fields"
      ],
      "execution_count": 231,
      "outputs": []
    },
    {
      "cell_type": "markdown",
      "metadata": {
        "id": "vqkIQJsund93",
        "colab_type": "text"
      },
      "source": [
        "## Descriptive statistics / Exploartory analysis"
      ]
    },
    {
      "cell_type": "code",
      "metadata": {
        "id": "nSRcJc8ks-jc",
        "colab_type": "code",
        "colab": {
          "base_uri": "https://localhost:8080/",
          "height": 567
        },
        "outputId": "110864dd-02f2-4356-8a59-09f4c6a1cfa5"
      },
      "source": [
        "descriptive_stats(custdemo)"
      ],
      "execution_count": 232,
      "outputs": [
        {
          "output_type": "execute_result",
          "data": {
            "text/plain": [
              "('descriptive statistic for categorical data',\n",
              " 'xxxxxxxxxxxxxxxxxxxxxxxxxxxxxxxxxxxxxxxxxxxxxxxxxx',\n",
              "         customer_id first_name last_name  ...           address state    country\n",
              " count          3908       3908      3787  ...              3908  3908       3908\n",
              " unique         3908       3076      3642  ...              3905     5          1\n",
              " top            3999        Max  Ramsdell  ...  3 Talisman Place   NSW  Australia\n",
              " freq              1          5         3  ...                 2  2004       3908\n",
              " \n",
              " [4 rows x 12 columns],\n",
              " 'descriptive statistic for numerical data',\n",
              " 'xxxxxxxxxxxxxxxxxxxxxxxxxxxxxxxxxxxxxxxxxxxxxxxxxx',\n",
              "        past_3_years_bike_related_purchases  ...  property_valuation\n",
              " count                          3908.000000  ...         3908.000000\n",
              " mean                             49.025844  ...            7.513050\n",
              " std                              28.775364  ...            2.825001\n",
              " min                               0.000000  ...            1.000000\n",
              " 25%                              24.000000  ...            6.000000\n",
              " 50%                              48.000000  ...            8.000000\n",
              " 75%                              73.000000  ...           10.000000\n",
              " max                              99.000000  ...           12.000000\n",
              " \n",
              " [8 rows x 4 columns],\n",
              " 'descriptive statistic for date data',\n",
              " 'xxxxxxxxxxxxxxxxxxxxxxxxxxxxxxxxxxxxxxxxxxxxxxxxxx',\n",
              "                         DOB\n",
              " count                  3908\n",
              " unique                 3443\n",
              " top     1978-01-30 00:00:00\n",
              " freq                      7\n",
              " first   1843-12-21 00:00:00\n",
              " last    2002-03-11 00:00:00)"
            ]
          },
          "metadata": {
            "tags": []
          },
          "execution_count": 232
        }
      ]
    },
    {
      "cell_type": "code",
      "metadata": {
        "id": "WdF5gyMTkxq3",
        "colab_type": "code",
        "colab": {
          "base_uri": "https://localhost:8080/",
          "height": 34
        },
        "outputId": "aea016c4-2b99-43f0-a96d-18ef8a8eaea9"
      },
      "source": [
        "print(custdemo.gender.unique())"
      ],
      "execution_count": 234,
      "outputs": [
        {
          "output_type": "stream",
          "text": [
            "['F' 'Male' 'Female' 'U' 'Femal' 'M']\n"
          ],
          "name": "stdout"
        }
      ]
    },
    {
      "cell_type": "markdown",
      "metadata": {
        "id": "nbru2_zRn8uD",
        "colab_type": "text"
      },
      "source": [
        "noted some innconsistency in  attributes used to describe gender"
      ]
    },
    {
      "cell_type": "code",
      "metadata": {
        "id": "c9xcF5WkxzmP",
        "colab_type": "code",
        "colab": {
          "base_uri": "https://localhost:8080/",
          "height": 34
        },
        "outputId": "e772a3ff-64bd-4812-c67c-a6a5a78226a5"
      },
      "source": [
        "custdemo.gender = custdemo.gender.replace({'F':'Female', 'Femal':'Female', 'M': 'Male'}) # correcting to have consistency\n",
        "custdemo.gender.unique()"
      ],
      "execution_count": 235,
      "outputs": [
        {
          "output_type": "execute_result",
          "data": {
            "text/plain": [
              "array(['Female', 'Male', 'U'], dtype=object)"
            ]
          },
          "metadata": {
            "tags": []
          },
          "execution_count": 235
        }
      ]
    },
    {
      "cell_type": "markdown",
      "metadata": {
        "id": "voaF9Y173ArP",
        "colab_type": "text"
      },
      "source": [
        "Checking for outliers for the field 'DOB'"
      ]
    },
    {
      "cell_type": "code",
      "metadata": {
        "id": "lCDSR3F5f6FY",
        "colab_type": "code",
        "colab": {
          "base_uri": "https://localhost:8080/",
          "height": 212
        },
        "outputId": "c55cdf48-e491-4105-e727-7f5385d8707d"
      },
      "source": [
        "custdemo['year']= custdemo.DOB.dt.year\n",
        "custdemo.year[:10]"
      ],
      "execution_count": 259,
      "outputs": [
        {
          "output_type": "execute_result",
          "data": {
            "text/plain": [
              "0    1953\n",
              "1    1980\n",
              "2    1961\n",
              "3    1977\n",
              "4    1966\n",
              "5    1976\n",
              "6    1962\n",
              "7    1973\n",
              "8    1954\n",
              "9    1994\n",
              "Name: year, dtype: int64"
            ]
          },
          "metadata": {
            "tags": []
          },
          "execution_count": 259
        }
      ]
    },
    {
      "cell_type": "code",
      "metadata": {
        "id": "7u4Ibjq6BJMu",
        "colab_type": "code",
        "colab": {
          "base_uri": "https://localhost:8080/",
          "height": 296
        },
        "outputId": "e05b2cee-f9ff-44cf-f10a-0fdbd136b884"
      },
      "source": [
        "sns.boxplot(x = custdemo.year)"
      ],
      "execution_count": 260,
      "outputs": [
        {
          "output_type": "execute_result",
          "data": {
            "text/plain": [
              "<matplotlib.axes._subplots.AxesSubplot at 0x7f70d50c1780>"
            ]
          },
          "metadata": {
            "tags": []
          },
          "execution_count": 260
        },
        {
          "output_type": "display_data",
          "data": {
            "image/png": "[encoded data removed]",
            "text/plain": [
              "<Figure size 432x288 with 1 Axes>"
            ]
          },
          "metadata": {
            "tags": [],
            "needs_background": "light"
          }
        }
      ]
    },
    {
      "cell_type": "code",
      "metadata": {
        "id": "pk3G7a7bgWG2",
        "colab_type": "code",
        "colab": {
          "base_uri": "https://localhost:8080/",
          "height": 34
        },
        "outputId": "ec5e44eb-8382-4117-8d2d-c8448c6da42d"
      },
      "source": [
        "q1 = custdemo.year.quantile(0.001)\n",
        "custdemo.shape"
      ],
      "execution_count": 46,
      "outputs": [
        {
          "output_type": "execute_result",
          "data": {
            "text/plain": [
              "(3908, 17)"
            ]
          },
          "metadata": {
            "tags": []
          },
          "execution_count": 46
        }
      ]
    },
    {
      "cell_type": "markdown",
      "metadata": {
        "id": "Lp9gfiWT3Tan",
        "colab_type": "text"
      },
      "source": [
        "Removing outliers"
      ]
    },
    {
      "cell_type": "code",
      "metadata": {
        "id": "P8vts_-Lz4A_",
        "colab_type": "code",
        "colab": {
          "base_uri": "https://localhost:8080/",
          "height": 34
        },
        "outputId": "03195457-fa15-48ba-dfd4-b7cd83722612"
      },
      "source": [
        "#removing outliers that are below the year 1930\n",
        "custdemo =custdemo[custdemo.year>= 1940] \n",
        "print(custdemo.shape)"
      ],
      "execution_count": 162,
      "outputs": [
        {
          "output_type": "stream",
          "text": [
            "(3905, 17)\n"
          ],
          "name": "stdout"
        }
      ]
    },
    {
      "cell_type": "code",
      "metadata": {
        "id": "3qLTrBuG0o4A",
        "colab_type": "code",
        "colab": {}
      },
      "source": [
        "custdemo.to_excel('customer.xlsx')"
      ],
      "execution_count": 47,
      "outputs": []
    },
    {
      "cell_type": "code",
      "metadata": {
        "id": "ZN40bdR1FYzh",
        "colab_type": "code",
        "colab": {}
      },
      "source": [
        ""
      ],
      "execution_count": null,
      "outputs": []
    }
  ]
}